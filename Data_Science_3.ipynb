{
  "nbformat": 4,
  "nbformat_minor": 0,
  "metadata": {
    "colab": {
      "provenance": []
    },
    "kernelspec": {
      "name": "ir",
      "display_name": "R"
    },
    "language_info": {
      "name": "R"
    }
  },
  "cells": [
    {
      "cell_type": "markdown",
      "source": [
        "# **Apply**: Looping on the command line"
      ],
      "metadata": {
        "id": "qbYvvlX3Gte9"
      }
    },
    {
      "cell_type": "markdown",
      "source": [
        "-   lapply(): Loop over a list and evaluate and function on each element\n",
        "-   sapply(): Same as lapply() but try to simplify the result\n",
        "-   apply(): Apply a function over the margins of an array\n",
        "-   tapply(): Apply a function over subsets of a vector\n",
        "-   mapply(): Multivariate version of lapply"
      ],
      "metadata": {
        "id": "L5riI2XoIFlg"
      }
    },
    {
      "cell_type": "markdown",
      "source": [
        "# lapply()"
      ],
      "metadata": {
        "id": "pzvoT-qBIilD"
      }
    },
    {
      "cell_type": "code",
      "execution_count": 1,
      "metadata": {
        "colab": {
          "base_uri": "https://localhost:8080/",
          "height": 114
        },
        "id": "COXMaK0VGivA",
        "outputId": "2dd2795c-71d3-4654-c596-f7be104cc474"
      },
      "outputs": [
        {
          "output_type": "display_data",
          "data": {
            "text/html": [
              "<dl>\n",
              "\t<dt>$a</dt>\n",
              "\t\t<dd>3</dd>\n",
              "\t<dt>$b</dt>\n",
              "\t\t<dd>-0.0910422048297725</dd>\n",
              "</dl>\n"
            ],
            "text/markdown": "$a\n:   3\n$b\n:   -0.0910422048297725\n\n\n",
            "text/latex": "\\begin{description}\n\\item[\\$a] 3\n\\item[\\$b] -0.0910422048297725\n\\end{description}\n",
            "text/plain": [
              "$a\n",
              "[1] 3\n",
              "\n",
              "$b\n",
              "[1] -0.0910422\n"
            ]
          },
          "metadata": {}
        }
      ],
      "source": [
        "x <- list(a = 1:5, b = rnorm(10))\n",
        "lapply(x, mean)"
      ]
    },
    {
      "cell_type": "code",
      "source": [
        "x <- list(a = 1:4, b = rnorm(10), c = rnorm(20, 1), d = rnorm(100, 5))\n",
        "lapply(x, mean)"
      ],
      "metadata": {
        "colab": {
          "base_uri": "https://localhost:8080/",
          "height": 184
        },
        "id": "0ak9wd7bI83s",
        "outputId": "a6d3ae68-2277-4cf8-ea0c-fceb4aa31399"
      },
      "execution_count": 2,
      "outputs": [
        {
          "output_type": "display_data",
          "data": {
            "text/html": [
              "<dl>\n",
              "\t<dt>$a</dt>\n",
              "\t\t<dd>2.5</dd>\n",
              "\t<dt>$b</dt>\n",
              "\t\t<dd>-0.233512179334171</dd>\n",
              "\t<dt>$c</dt>\n",
              "\t\t<dd>0.836663039141665</dd>\n",
              "\t<dt>$d</dt>\n",
              "\t\t<dd>5.00246180636332</dd>\n",
              "</dl>\n"
            ],
            "text/markdown": "$a\n:   2.5\n$b\n:   -0.233512179334171\n$c\n:   0.836663039141665\n$d\n:   5.00246180636332\n\n\n",
            "text/latex": "\\begin{description}\n\\item[\\$a] 2.5\n\\item[\\$b] -0.233512179334171\n\\item[\\$c] 0.836663039141665\n\\item[\\$d] 5.00246180636332\n\\end{description}\n",
            "text/plain": [
              "$a\n",
              "[1] 2.5\n",
              "\n",
              "$b\n",
              "[1] -0.2335122\n",
              "\n",
              "$c\n",
              "[1] 0.836663\n",
              "\n",
              "$d\n",
              "[1] 5.002462\n"
            ]
          },
          "metadata": {}
        }
      ]
    },
    {
      "cell_type": "code",
      "source": [
        "x <- 1:4\n",
        "lapply(x, runif)"
      ],
      "metadata": {
        "colab": {
          "base_uri": "https://localhost:8080/",
          "height": 114
        },
        "id": "vwc4yWVGJTjd",
        "outputId": "b71a01c6-b0d5-4107-9568-1bef02e17e24"
      },
      "execution_count": 6,
      "outputs": [
        {
          "output_type": "display_data",
          "data": {
            "text/html": [
              "<ol>\n",
              "\t<li>0.734697142150253</li>\n",
              "\t<li><style>\n",
              ".list-inline {list-style: none; margin:0; padding: 0}\n",
              ".list-inline>li {display: inline-block}\n",
              ".list-inline>li:not(:last-child)::after {content: \"\\00b7\"; padding: 0 .5ex}\n",
              "</style>\n",
              "<ol class=list-inline><li>0.706923451507464</li><li>0.962035727454349</li></ol>\n",
              "</li>\n",
              "\t<li><style>\n",
              ".list-inline {list-style: none; margin:0; padding: 0}\n",
              ".list-inline>li {display: inline-block}\n",
              ".list-inline>li:not(:last-child)::after {content: \"\\00b7\"; padding: 0 .5ex}\n",
              "</style>\n",
              "<ol class=list-inline><li>0.307049603899941</li><li>0.922900507692248</li><li>0.362723374506459</li></ol>\n",
              "</li>\n",
              "\t<li><style>\n",
              ".list-inline {list-style: none; margin:0; padding: 0}\n",
              ".list-inline>li {display: inline-block}\n",
              ".list-inline>li:not(:last-child)::after {content: \"\\00b7\"; padding: 0 .5ex}\n",
              "</style>\n",
              "<ol class=list-inline><li>0.827628177590668</li><li>0.79278373811394</li><li>0.560383548261598</li><li>0.124016587389633</li></ol>\n",
              "</li>\n",
              "</ol>\n"
            ],
            "text/markdown": "1. 0.734697142150253\n2. 1. 0.706923451507464\n2. 0.962035727454349\n\n\n\n3. 1. 0.307049603899941\n2. 0.922900507692248\n3. 0.362723374506459\n\n\n\n4. 1. 0.827628177590668\n2. 0.79278373811394\n3. 0.560383548261598\n4. 0.124016587389633\n\n\n\n\n\n",
            "text/latex": "\\begin{enumerate}\n\\item 0.734697142150253\n\\item \\begin{enumerate*}\n\\item 0.706923451507464\n\\item 0.962035727454349\n\\end{enumerate*}\n\n\\item \\begin{enumerate*}\n\\item 0.307049603899941\n\\item 0.922900507692248\n\\item 0.362723374506459\n\\end{enumerate*}\n\n\\item \\begin{enumerate*}\n\\item 0.827628177590668\n\\item 0.79278373811394\n\\item 0.560383548261598\n\\item 0.124016587389633\n\\end{enumerate*}\n\n\\end{enumerate}\n",
            "text/plain": [
              "[[1]]\n",
              "[1] 0.7346971\n",
              "\n",
              "[[2]]\n",
              "[1] 0.7069235 0.9620357\n",
              "\n",
              "[[3]]\n",
              "[1] 0.3070496 0.9229005 0.3627234\n",
              "\n",
              "[[4]]\n",
              "[1] 0.8276282 0.7927837 0.5603835 0.1240166\n"
            ]
          },
          "metadata": {}
        }
      ]
    },
    {
      "cell_type": "code",
      "source": [
        "x <- 1:4\n",
        "lapply(x, runif, min = 0, max = 10)"
      ],
      "metadata": {
        "colab": {
          "base_uri": "https://localhost:8080/",
          "height": 114
        },
        "id": "B7JvAq07Jos4",
        "outputId": "b9a9bb11-d632-46b5-f37e-25ed08979022"
      },
      "execution_count": 7,
      "outputs": [
        {
          "output_type": "display_data",
          "data": {
            "text/html": [
              "<ol>\n",
              "\t<li>8.11533719301224</li>\n",
              "\t<li><style>\n",
              ".list-inline {list-style: none; margin:0; padding: 0}\n",
              ".list-inline>li {display: inline-block}\n",
              ".list-inline>li:not(:last-child)::after {content: \"\\00b7\"; padding: 0 .5ex}\n",
              "</style>\n",
              "<ol class=list-inline><li>1.97708127787337</li><li>9.48055814718828</li></ol>\n",
              "</li>\n",
              "\t<li><style>\n",
              ".list-inline {list-style: none; margin:0; padding: 0}\n",
              ".list-inline>li {display: inline-block}\n",
              ".list-inline>li:not(:last-child)::after {content: \"\\00b7\"; padding: 0 .5ex}\n",
              "</style>\n",
              "<ol class=list-inline><li>4.99096624087542</li><li>5.94871065579355</li><li>5.94162872061133</li></ol>\n",
              "</li>\n",
              "\t<li><style>\n",
              ".list-inline {list-style: none; margin:0; padding: 0}\n",
              ".list-inline>li {display: inline-block}\n",
              ".list-inline>li:not(:last-child)::after {content: \"\\00b7\"; padding: 0 .5ex}\n",
              "</style>\n",
              "<ol class=list-inline><li>2.50051411800086</li><li>3.19210507441312</li><li>8.79386541899294</li><li>5.28290431946516</li></ol>\n",
              "</li>\n",
              "</ol>\n"
            ],
            "text/markdown": "1. 8.11533719301224\n2. 1. 1.97708127787337\n2. 9.48055814718828\n\n\n\n3. 1. 4.99096624087542\n2. 5.94871065579355\n3. 5.94162872061133\n\n\n\n4. 1. 2.50051411800086\n2. 3.19210507441312\n3. 8.79386541899294\n4. 5.28290431946516\n\n\n\n\n\n",
            "text/latex": "\\begin{enumerate}\n\\item 8.11533719301224\n\\item \\begin{enumerate*}\n\\item 1.97708127787337\n\\item 9.48055814718828\n\\end{enumerate*}\n\n\\item \\begin{enumerate*}\n\\item 4.99096624087542\n\\item 5.94871065579355\n\\item 5.94162872061133\n\\end{enumerate*}\n\n\\item \\begin{enumerate*}\n\\item 2.50051411800086\n\\item 3.19210507441312\n\\item 8.79386541899294\n\\item 5.28290431946516\n\\end{enumerate*}\n\n\\end{enumerate}\n",
            "text/plain": [
              "[[1]]\n",
              "[1] 8.115337\n",
              "\n",
              "[[2]]\n",
              "[1] 1.977081 9.480558\n",
              "\n",
              "[[3]]\n",
              "[1] 4.990966 5.948711 5.941629\n",
              "\n",
              "[[4]]\n",
              "[1] 2.500514 3.192105 8.793865 5.282904\n"
            ]
          },
          "metadata": {}
        }
      ]
    },
    {
      "cell_type": "code",
      "source": [
        "x <- list(a = matrix(1:4, 2, 2), b = matrix(1:6, 3, 2))\n",
        "x"
      ],
      "metadata": {
        "colab": {
          "base_uri": "https://localhost:8080/",
          "height": 410
        },
        "id": "9WbBBqBFJw0S",
        "outputId": "c13ac534-9426-4e5f-d78b-85aa8f4c8b23"
      },
      "execution_count": 8,
      "outputs": [
        {
          "output_type": "display_data",
          "data": {
            "text/html": [
              "<dl>\n",
              "\t<dt>$a</dt>\n",
              "\t\t<dd><table class=\"dataframe\">\n",
              "<caption>A matrix: 2 × 2 of type int</caption>\n",
              "<tbody>\n",
              "\t<tr><td>1</td><td>3</td></tr>\n",
              "\t<tr><td>2</td><td>4</td></tr>\n",
              "</tbody>\n",
              "</table>\n",
              "</dd>\n",
              "\t<dt>$b</dt>\n",
              "\t\t<dd><table class=\"dataframe\">\n",
              "<caption>A matrix: 3 × 2 of type int</caption>\n",
              "<tbody>\n",
              "\t<tr><td>1</td><td>4</td></tr>\n",
              "\t<tr><td>2</td><td>5</td></tr>\n",
              "\t<tr><td>3</td><td>6</td></tr>\n",
              "</tbody>\n",
              "</table>\n",
              "</dd>\n",
              "</dl>\n"
            ],
            "text/markdown": "$a\n:   \nA matrix: 2 × 2 of type int\n\n| 1 | 3 |\n| 2 | 4 |\n\n\n$b\n:   \nA matrix: 3 × 2 of type int\n\n| 1 | 4 |\n| 2 | 5 |\n| 3 | 6 |\n\n\n\n\n",
            "text/latex": "\\begin{description}\n\\item[\\$a] A matrix: 2 × 2 of type int\n\\begin{tabular}{ll}\n\t 1 & 3\\\\\n\t 2 & 4\\\\\n\\end{tabular}\n\n\\item[\\$b] A matrix: 3 × 2 of type int\n\\begin{tabular}{ll}\n\t 1 & 4\\\\\n\t 2 & 5\\\\\n\t 3 & 6\\\\\n\\end{tabular}\n\n\\end{description}\n",
            "text/plain": [
              "$a\n",
              "     [,1] [,2]\n",
              "[1,]    1    3\n",
              "[2,]    2    4\n",
              "\n",
              "$b\n",
              "     [,1] [,2]\n",
              "[1,]    1    4\n",
              "[2,]    2    5\n",
              "[3,]    3    6\n"
            ]
          },
          "metadata": {}
        }
      ]
    },
    {
      "cell_type": "code",
      "source": [
        "lapply(x, function(elt) elt[,1])"
      ],
      "metadata": {
        "colab": {
          "base_uri": "https://localhost:8080/",
          "height": 114
        },
        "id": "_1uKhhwrKFCV",
        "outputId": "8f608adc-e01e-4b22-9d4c-d2f7384a7bc7"
      },
      "execution_count": 9,
      "outputs": [
        {
          "output_type": "display_data",
          "data": {
            "text/html": [
              "<dl>\n",
              "\t<dt>$a</dt>\n",
              "\t\t<dd><style>\n",
              ".list-inline {list-style: none; margin:0; padding: 0}\n",
              ".list-inline>li {display: inline-block}\n",
              ".list-inline>li:not(:last-child)::after {content: \"\\00b7\"; padding: 0 .5ex}\n",
              "</style>\n",
              "<ol class=list-inline><li>1</li><li>2</li></ol>\n",
              "</dd>\n",
              "\t<dt>$b</dt>\n",
              "\t\t<dd><style>\n",
              ".list-inline {list-style: none; margin:0; padding: 0}\n",
              ".list-inline>li {display: inline-block}\n",
              ".list-inline>li:not(:last-child)::after {content: \"\\00b7\"; padding: 0 .5ex}\n",
              "</style>\n",
              "<ol class=list-inline><li>1</li><li>2</li><li>3</li></ol>\n",
              "</dd>\n",
              "</dl>\n"
            ],
            "text/markdown": "$a\n:   1. 1\n2. 2\n\n\n\n$b\n:   1. 1\n2. 2\n3. 3\n\n\n\n\n\n",
            "text/latex": "\\begin{description}\n\\item[\\$a] \\begin{enumerate*}\n\\item 1\n\\item 2\n\\end{enumerate*}\n\n\\item[\\$b] \\begin{enumerate*}\n\\item 1\n\\item 2\n\\item 3\n\\end{enumerate*}\n\n\\end{description}\n",
            "text/plain": [
              "$a\n",
              "[1] 1 2\n",
              "\n",
              "$b\n",
              "[1] 1 2 3\n"
            ]
          },
          "metadata": {}
        }
      ]
    },
    {
      "cell_type": "markdown",
      "source": [
        "# sapply()"
      ],
      "metadata": {
        "id": "WRD1VIPRMP60"
      }
    },
    {
      "cell_type": "code",
      "source": [
        "x <- list(a = 1:4, b = rnorm(10), c = rnorm(20, 1), d = rnorm(100, 5))\n",
        "sapply(x, mean)"
      ],
      "metadata": {
        "colab": {
          "base_uri": "https://localhost:8080/",
          "height": 34
        },
        "id": "O-o06DZsKN87",
        "outputId": "8e477c6e-0409-4471-c0b4-4b62a7da4ada"
      },
      "execution_count": 11,
      "outputs": [
        {
          "output_type": "display_data",
          "data": {
            "text/html": [
              "<style>\n",
              ".dl-inline {width: auto; margin:0; padding: 0}\n",
              ".dl-inline>dt, .dl-inline>dd {float: none; width: auto; display: inline-block}\n",
              ".dl-inline>dt::after {content: \":\\0020\"; padding-right: .5ex}\n",
              ".dl-inline>dt:not(:first-of-type) {padding-left: .5ex}\n",
              "</style><dl class=dl-inline><dt>a</dt><dd>2.5</dd><dt>b</dt><dd>0.0497241913314341</dd><dt>c</dt><dd>0.998832334863055</dd><dt>d</dt><dd>4.91394525263098</dd></dl>\n"
            ],
            "text/markdown": "a\n:   2.5b\n:   0.0497241913314341c\n:   0.998832334863055d\n:   4.91394525263098\n\n",
            "text/latex": "\\begin{description*}\n\\item[a] 2.5\n\\item[b] 0.0497241913314341\n\\item[c] 0.998832334863055\n\\item[d] 4.91394525263098\n\\end{description*}\n",
            "text/plain": [
              "         a          b          c          d \n",
              "2.50000000 0.04972419 0.99883233 4.91394525 "
            ]
          },
          "metadata": {}
        }
      ]
    },
    {
      "cell_type": "code",
      "source": [
        "str(apply)"
      ],
      "metadata": {
        "colab": {
          "base_uri": "https://localhost:8080/"
        },
        "id": "nUN2QQ6KMdTm",
        "outputId": "f539e74b-48a6-4705-ea3f-e0d4ad1fc4ff"
      },
      "execution_count": 14,
      "outputs": [
        {
          "output_type": "stream",
          "name": "stdout",
          "text": [
            "function (X, MARGIN, FUN, ..., simplify = TRUE)  \n"
          ]
        }
      ]
    },
    {
      "cell_type": "markdown",
      "source": [
        "1 : rowwise\n",
        "\n",
        "2 : colwise"
      ],
      "metadata": {
        "id": "ffbN-ytANuDw"
      }
    },
    {
      "cell_type": "code",
      "source": [
        "x <- matrix(rnorm(200), 20, 10)\n",
        "apply(x, 1, sum)   #rowSums\n",
        "apply(x, 2, mean)  #colMeans"
      ],
      "metadata": {
        "colab": {
          "base_uri": "https://localhost:8080/",
          "height": 104
        },
        "id": "YBEPTzBWNTfy",
        "outputId": "ea2e2a6d-e65f-4ed3-881a-0df0c8c61fbe"
      },
      "execution_count": 16,
      "outputs": [
        {
          "output_type": "display_data",
          "data": {
            "text/html": [
              "<style>\n",
              ".list-inline {list-style: none; margin:0; padding: 0}\n",
              ".list-inline>li {display: inline-block}\n",
              ".list-inline>li:not(:last-child)::after {content: \"\\00b7\"; padding: 0 .5ex}\n",
              "</style>\n",
              "<ol class=list-inline><li>1.84482149778002</li><li>-3.1077756435129</li><li>-0.583521794507715</li><li>-3.8849841686953</li><li>2.03911237993657</li><li>-0.388563674924662</li><li>-0.0926811391512184</li><li>0.341818203779673</li><li>9.14329799766778</li><li>-3.62438125151214</li><li>1.38439940628762</li><li>0.446955401164528</li><li>2.30361015384375</li><li>7.88463288225858</li><li>-0.611877850074123</li><li>1.70839021596991</li><li>-1.42360769164149</li><li>2.62353694338987</li><li>-0.936453315533806</li><li>-1.40708890878352</li></ol>\n"
            ],
            "text/markdown": "1. 1.84482149778002\n2. -3.1077756435129\n3. -0.583521794507715\n4. -3.8849841686953\n5. 2.03911237993657\n6. -0.388563674924662\n7. -0.0926811391512184\n8. 0.341818203779673\n9. 9.14329799766778\n10. -3.62438125151214\n11. 1.38439940628762\n12. 0.446955401164528\n13. 2.30361015384375\n14. 7.88463288225858\n15. -0.611877850074123\n16. 1.70839021596991\n17. -1.42360769164149\n18. 2.62353694338987\n19. -0.936453315533806\n20. -1.40708890878352\n\n\n",
            "text/latex": "\\begin{enumerate*}\n\\item 1.84482149778002\n\\item -3.1077756435129\n\\item -0.583521794507715\n\\item -3.8849841686953\n\\item 2.03911237993657\n\\item -0.388563674924662\n\\item -0.0926811391512184\n\\item 0.341818203779673\n\\item 9.14329799766778\n\\item -3.62438125151214\n\\item 1.38439940628762\n\\item 0.446955401164528\n\\item 2.30361015384375\n\\item 7.88463288225858\n\\item -0.611877850074123\n\\item 1.70839021596991\n\\item -1.42360769164149\n\\item 2.62353694338987\n\\item -0.936453315533806\n\\item -1.40708890878352\n\\end{enumerate*}\n",
            "text/plain": [
              " [1]  1.84482150 -3.10777564 -0.58352179 -3.88498417  2.03911238 -0.38856367\n",
              " [7] -0.09268114  0.34181820  9.14329800 -3.62438125  1.38439941  0.44695540\n",
              "[13]  2.30361015  7.88463288 -0.61187785  1.70839022 -1.42360769  2.62353694\n",
              "[19] -0.93645332 -1.40708891"
            ]
          },
          "metadata": {}
        },
        {
          "output_type": "display_data",
          "data": {
            "text/html": [
              "<style>\n",
              ".list-inline {list-style: none; margin:0; padding: 0}\n",
              ".list-inline>li {display: inline-block}\n",
              ".list-inline>li:not(:last-child)::after {content: \"\\00b7\"; padding: 0 .5ex}\n",
              "</style>\n",
              "<ol class=list-inline><li>0.274843045583802</li><li>0.0345957462738541</li><li>0.404794699161461</li><li>-0.0120001851435157</li><li>0.555909399557603</li><li>-0.106432743013357</li><li>-0.103763912957469</li><li>-0.169191945730503</li><li>0.0284077934444337</li><li>-0.224179914989237</li></ol>\n"
            ],
            "text/markdown": "1. 0.274843045583802\n2. 0.0345957462738541\n3. 0.404794699161461\n4. -0.0120001851435157\n5. 0.555909399557603\n6. -0.106432743013357\n7. -0.103763912957469\n8. -0.169191945730503\n9. 0.0284077934444337\n10. -0.224179914989237\n\n\n",
            "text/latex": "\\begin{enumerate*}\n\\item 0.274843045583802\n\\item 0.0345957462738541\n\\item 0.404794699161461\n\\item -0.0120001851435157\n\\item 0.555909399557603\n\\item -0.106432743013357\n\\item -0.103763912957469\n\\item -0.169191945730503\n\\item 0.0284077934444337\n\\item -0.224179914989237\n\\end{enumerate*}\n",
            "text/plain": [
              " [1]  0.27484305  0.03459575  0.40479470 -0.01200019  0.55590940 -0.10643274\n",
              " [7] -0.10376391 -0.16919195  0.02840779 -0.22417991"
            ]
          },
          "metadata": {}
        }
      ]
    },
    {
      "cell_type": "code",
      "source": [
        "x <- matrix(rnorm(200), 20, 10)\n",
        "apply(x, 1, quantile, probs = c(0.25, 0.75))"
      ],
      "metadata": {
        "colab": {
          "base_uri": "https://localhost:8080/",
          "height": 117
        },
        "id": "k9nV8eJKOFkb",
        "outputId": "1a0c0e0a-b0f6-4406-db5f-6eaeb79f55f8"
      },
      "execution_count": 17,
      "outputs": [
        {
          "output_type": "display_data",
          "data": {
            "text/html": [
              "<table class=\"dataframe\">\n",
              "<caption>A matrix: 2 × 20 of type dbl</caption>\n",
              "<tbody>\n",
              "\t<tr><th scope=row>25%</th><td>-1.0026197</td><td>0.2212035</td><td>-0.78531989</td><td>-0.6949228</td><td>-1.4020226</td><td>-1.1815717</td><td>-0.8418331</td><td>-0.8871996</td><td>-0.1289502</td><td>-1.1106360</td><td>-1.1634183</td><td>-1.0287939</td><td>-0.6725650</td><td>-0.9229873</td><td>-0.6953154</td><td>-0.2278993</td><td>-0.5287917</td><td>-0.4541874</td><td>-0.3858306</td><td>-0.8526098</td></tr>\n",
              "\t<tr><th scope=row>75%</th><td> 0.1201862</td><td>0.8543376</td><td> 0.01872764</td><td> 0.9967704</td><td>-0.4180892</td><td> 0.2726168</td><td> 0.8448166</td><td> 0.3088824</td><td> 0.1763737</td><td> 0.2773667</td><td> 0.8764587</td><td> 0.7785223</td><td> 0.5018576</td><td>-0.2233608</td><td> 0.9938846</td><td> 0.4943931</td><td> 0.6044566</td><td> 0.8698024</td><td> 0.1687056</td><td> 0.4544548</td></tr>\n",
              "</tbody>\n",
              "</table>\n"
            ],
            "text/markdown": "\nA matrix: 2 × 20 of type dbl\n\n| 25% | -1.0026197 | 0.2212035 | -0.78531989 | -0.6949228 | -1.4020226 | -1.1815717 | -0.8418331 | -0.8871996 | -0.1289502 | -1.1106360 | -1.1634183 | -1.0287939 | -0.6725650 | -0.9229873 | -0.6953154 | -0.2278993 | -0.5287917 | -0.4541874 | -0.3858306 | -0.8526098 |\n| 75% |  0.1201862 | 0.8543376 |  0.01872764 |  0.9967704 | -0.4180892 |  0.2726168 |  0.8448166 |  0.3088824 |  0.1763737 |  0.2773667 |  0.8764587 |  0.7785223 |  0.5018576 | -0.2233608 |  0.9938846 |  0.4943931 |  0.6044566 |  0.8698024 |  0.1687056 |  0.4544548 |\n\n",
            "text/latex": "A matrix: 2 × 20 of type dbl\n\\begin{tabular}{r|llllllllllllllllllll}\n\t25\\% & -1.0026197 & 0.2212035 & -0.78531989 & -0.6949228 & -1.4020226 & -1.1815717 & -0.8418331 & -0.8871996 & -0.1289502 & -1.1106360 & -1.1634183 & -1.0287939 & -0.6725650 & -0.9229873 & -0.6953154 & -0.2278993 & -0.5287917 & -0.4541874 & -0.3858306 & -0.8526098\\\\\n\t75\\% &  0.1201862 & 0.8543376 &  0.01872764 &  0.9967704 & -0.4180892 &  0.2726168 &  0.8448166 &  0.3088824 &  0.1763737 &  0.2773667 &  0.8764587 &  0.7785223 &  0.5018576 & -0.2233608 &  0.9938846 &  0.4943931 &  0.6044566 &  0.8698024 &  0.1687056 &  0.4544548\\\\\n\\end{tabular}\n",
            "text/plain": [
              "    [,1]       [,2]      [,3]        [,4]       [,5]       [,6]      \n",
              "25% -1.0026197 0.2212035 -0.78531989 -0.6949228 -1.4020226 -1.1815717\n",
              "75%  0.1201862 0.8543376  0.01872764  0.9967704 -0.4180892  0.2726168\n",
              "    [,7]       [,8]       [,9]       [,10]      [,11]      [,12]     \n",
              "25% -0.8418331 -0.8871996 -0.1289502 -1.1106360 -1.1634183 -1.0287939\n",
              "75%  0.8448166  0.3088824  0.1763737  0.2773667  0.8764587  0.7785223\n",
              "    [,13]      [,14]      [,15]      [,16]      [,17]      [,18]     \n",
              "25% -0.6725650 -0.9229873 -0.6953154 -0.2278993 -0.5287917 -0.4541874\n",
              "75%  0.5018576 -0.2233608  0.9938846  0.4943931  0.6044566  0.8698024\n",
              "    [,19]      [,20]     \n",
              "25% -0.3858306 -0.8526098\n",
              "75%  0.1687056  0.4544548"
            ]
          },
          "metadata": {}
        }
      ]
    },
    {
      "cell_type": "code",
      "source": [
        "a <- array(rnorm(2 * 2 * 10), c(2, 2, 10))\n",
        "apply(a, c(1, 2), mean) #keep the dimensions (1,2) : (2,2)\n",
        "# rowMeans(a, dims = 2) same as above statement and keep first 2 dimentions (1,2) : (2,2)"
      ],
      "metadata": {
        "colab": {
          "base_uri": "https://localhost:8080/",
          "height": 97
        },
        "id": "CQp7PFgrPBei",
        "outputId": "eacfee2e-29b6-4845-a7cd-042ba1927524"
      },
      "execution_count": 29,
      "outputs": [
        {
          "output_type": "display_data",
          "data": {
            "text/html": [
              "<table class=\"dataframe\">\n",
              "<caption>A matrix: 2 × 2 of type dbl</caption>\n",
              "<tbody>\n",
              "\t<tr><td>-0.08967845</td><td>-0.1446001</td></tr>\n",
              "\t<tr><td> 0.30910713</td><td> 0.3523174</td></tr>\n",
              "</tbody>\n",
              "</table>\n"
            ],
            "text/markdown": "\nA matrix: 2 × 2 of type dbl\n\n| -0.08967845 | -0.1446001 |\n|  0.30910713 |  0.3523174 |\n\n",
            "text/latex": "A matrix: 2 × 2 of type dbl\n\\begin{tabular}{ll}\n\t -0.08967845 & -0.1446001\\\\\n\t  0.30910713 &  0.3523174\\\\\n\\end{tabular}\n",
            "text/plain": [
              "     [,1]        [,2]      \n",
              "[1,] -0.08967845 -0.1446001\n",
              "[2,]  0.30910713  0.3523174"
            ]
          },
          "metadata": {}
        }
      ]
    },
    {
      "cell_type": "markdown",
      "source": [
        "# tapply()"
      ],
      "metadata": {
        "id": "QlS8O-QsRq8D"
      }
    },
    {
      "cell_type": "code",
      "source": [
        "str(tapply)"
      ],
      "metadata": {
        "colab": {
          "base_uri": "https://localhost:8080/"
        },
        "id": "izdwYp9KRpJ4",
        "outputId": "228fe9b8-9a9c-4751-bfea-cb1beaa255f0"
      },
      "execution_count": 30,
      "outputs": [
        {
          "output_type": "stream",
          "name": "stdout",
          "text": [
            "function (X, INDEX, FUN = NULL, ..., default = NA, simplify = TRUE)  \n"
          ]
        }
      ]
    },
    {
      "cell_type": "code",
      "source": [
        "x <- c(rnorm(10), runif(10), rnorm(10, 1))\n",
        "f <- gl(6, 5)  # generate 6 levels of 5 each\n",
        "f\n",
        "tapply(x, f, mean) # apply to each level"
      ],
      "metadata": {
        "colab": {
          "base_uri": "https://localhost:8080/",
          "height": 69
        },
        "id": "csxnVX_SRy9F",
        "outputId": "654fe2e2-0f98-4c12-a9b2-e1785d189d46"
      },
      "execution_count": 33,
      "outputs": [
        {
          "output_type": "display_data",
          "data": {
            "text/html": [
              "<style>\n",
              ".list-inline {list-style: none; margin:0; padding: 0}\n",
              ".list-inline>li {display: inline-block}\n",
              ".list-inline>li:not(:last-child)::after {content: \"\\00b7\"; padding: 0 .5ex}\n",
              "</style>\n",
              "<ol class=list-inline><li>1</li><li>1</li><li>1</li><li>1</li><li>1</li><li>2</li><li>2</li><li>2</li><li>2</li><li>2</li><li>3</li><li>3</li><li>3</li><li>3</li><li>3</li><li>4</li><li>4</li><li>4</li><li>4</li><li>4</li><li>5</li><li>5</li><li>5</li><li>5</li><li>5</li><li>6</li><li>6</li><li>6</li><li>6</li><li>6</li></ol>\n",
              "\n",
              "<details>\n",
              "\t<summary style=display:list-item;cursor:pointer>\n",
              "\t\t<strong>Levels</strong>:\n",
              "\t</summary>\n",
              "\t<style>\n",
              "\t.list-inline {list-style: none; margin:0; padding: 0}\n",
              "\t.list-inline>li {display: inline-block}\n",
              "\t.list-inline>li:not(:last-child)::after {content: \"\\00b7\"; padding: 0 .5ex}\n",
              "\t</style>\n",
              "\t<ol class=list-inline><li>'1'</li><li>'2'</li><li>'3'</li><li>'4'</li><li>'5'</li><li>'6'</li></ol>\n",
              "</details>"
            ],
            "text/markdown": "1. 1\n2. 1\n3. 1\n4. 1\n5. 1\n6. 2\n7. 2\n8. 2\n9. 2\n10. 2\n11. 3\n12. 3\n13. 3\n14. 3\n15. 3\n16. 4\n17. 4\n18. 4\n19. 4\n20. 4\n21. 5\n22. 5\n23. 5\n24. 5\n25. 5\n26. 6\n27. 6\n28. 6\n29. 6\n30. 6\n\n\n\n**Levels**: 1. '1'\n2. '2'\n3. '3'\n4. '4'\n5. '5'\n6. '6'\n\n\n",
            "text/latex": "\\begin{enumerate*}\n\\item 1\n\\item 1\n\\item 1\n\\item 1\n\\item 1\n\\item 2\n\\item 2\n\\item 2\n\\item 2\n\\item 2\n\\item 3\n\\item 3\n\\item 3\n\\item 3\n\\item 3\n\\item 4\n\\item 4\n\\item 4\n\\item 4\n\\item 4\n\\item 5\n\\item 5\n\\item 5\n\\item 5\n\\item 5\n\\item 6\n\\item 6\n\\item 6\n\\item 6\n\\item 6\n\\end{enumerate*}\n\n\\emph{Levels}: \\begin{enumerate*}\n\\item '1'\n\\item '2'\n\\item '3'\n\\item '4'\n\\item '5'\n\\item '6'\n\\end{enumerate*}\n",
            "text/plain": [
              " [1] 1 1 1 1 1 2 2 2 2 2 3 3 3 3 3 4 4 4 4 4 5 5 5 5 5 6 6 6 6 6\n",
              "Levels: 1 2 3 4 5 6"
            ]
          },
          "metadata": {}
        },
        {
          "output_type": "display_data",
          "data": {
            "text/html": [
              "<style>\n",
              ".dl-inline {width: auto; margin:0; padding: 0}\n",
              ".dl-inline>dt, .dl-inline>dd {float: none; width: auto; display: inline-block}\n",
              ".dl-inline>dt::after {content: \":\\0020\"; padding-right: .5ex}\n",
              ".dl-inline>dt:not(:first-of-type) {padding-left: .5ex}\n",
              "</style><dl class=dl-inline><dt>1</dt><dd>-0.296156337350075</dd><dt>2</dt><dd>0.242166466934078</dd><dt>3</dt><dd>0.376002785982564</dd><dt>4</dt><dd>0.547150419605896</dd><dt>5</dt><dd>1.18950089251288</dd><dt>6</dt><dd>0.518252955556944</dd></dl>\n"
            ],
            "text/markdown": "1\n:   -0.2961563373500752\n:   0.2421664669340783\n:   0.3760027859825644\n:   0.5471504196058965\n:   1.189500892512886\n:   0.518252955556944\n\n",
            "text/latex": "\\begin{description*}\n\\item[1] -0.296156337350075\n\\item[2] 0.242166466934078\n\\item[3] 0.376002785982564\n\\item[4] 0.547150419605896\n\\item[5] 1.18950089251288\n\\item[6] 0.518252955556944\n\\end{description*}\n",
            "text/plain": [
              "         1          2          3          4          5          6 \n",
              "-0.2961563  0.2421665  0.3760028  0.5471504  1.1895009  0.5182530 "
            ]
          },
          "metadata": {}
        }
      ]
    },
    {
      "cell_type": "code",
      "source": [
        "tapply(x, f, mean, simplify = FALSE)"
      ],
      "metadata": {
        "colab": {
          "base_uri": "https://localhost:8080/",
          "height": 253
        },
        "id": "E9a7-y-hUUiK",
        "outputId": "6f5ab4d4-7b65-409c-ba29-ebf6cbe32177"
      },
      "execution_count": 34,
      "outputs": [
        {
          "output_type": "display_data",
          "data": {
            "text/html": [
              "<dl>\n",
              "\t<dt>$`1`</dt>\n",
              "\t\t<dd>-0.296156337350075</dd>\n",
              "\t<dt>$`2`</dt>\n",
              "\t\t<dd>0.242166466934078</dd>\n",
              "\t<dt>$`3`</dt>\n",
              "\t\t<dd>0.376002785982564</dd>\n",
              "\t<dt>$`4`</dt>\n",
              "\t\t<dd>0.547150419605896</dd>\n",
              "\t<dt>$`5`</dt>\n",
              "\t\t<dd>1.18950089251288</dd>\n",
              "\t<dt>$`6`</dt>\n",
              "\t\t<dd>0.518252955556944</dd>\n",
              "</dl>\n"
            ],
            "text/markdown": "$`1`\n:   -0.296156337350075\n$`2`\n:   0.242166466934078\n$`3`\n:   0.376002785982564\n$`4`\n:   0.547150419605896\n$`5`\n:   1.18950089251288\n$`6`\n:   0.518252955556944\n\n\n",
            "text/latex": "\\begin{description}\n\\item[\\$`1`] -0.296156337350075\n\\item[\\$`2`] 0.242166466934078\n\\item[\\$`3`] 0.376002785982564\n\\item[\\$`4`] 0.547150419605896\n\\item[\\$`5`] 1.18950089251288\n\\item[\\$`6`] 0.518252955556944\n\\end{description}\n",
            "text/plain": [
              "$`1`\n",
              "[1] -0.2961563\n",
              "\n",
              "$`2`\n",
              "[1] 0.2421665\n",
              "\n",
              "$`3`\n",
              "[1] 0.3760028\n",
              "\n",
              "$`4`\n",
              "[1] 0.5471504\n",
              "\n",
              "$`5`\n",
              "[1] 1.189501\n",
              "\n",
              "$`6`\n",
              "[1] 0.518253\n"
            ]
          },
          "metadata": {}
        }
      ]
    },
    {
      "cell_type": "code",
      "source": [
        "tapply(x, f, range)"
      ],
      "metadata": {
        "colab": {
          "base_uri": "https://localhost:8080/",
          "height": 253
        },
        "id": "iYK_X8l0UwEg",
        "outputId": "88d9be8f-4498-4002-b85e-301b54dedab5"
      },
      "execution_count": 35,
      "outputs": [
        {
          "output_type": "display_data",
          "data": {
            "text/html": [
              "<dl>\n",
              "\t<dt>$`1`</dt>\n",
              "\t\t<dd><style>\n",
              ".list-inline {list-style: none; margin:0; padding: 0}\n",
              ".list-inline>li {display: inline-block}\n",
              ".list-inline>li:not(:last-child)::after {content: \"\\00b7\"; padding: 0 .5ex}\n",
              "</style>\n",
              "<ol class=list-inline><li>-1.09702687407805</li><li>0.334838346672227</li></ol>\n",
              "</dd>\n",
              "\t<dt>$`2`</dt>\n",
              "\t\t<dd><style>\n",
              ".list-inline {list-style: none; margin:0; padding: 0}\n",
              ".list-inline>li {display: inline-block}\n",
              ".list-inline>li:not(:last-child)::after {content: \"\\00b7\"; padding: 0 .5ex}\n",
              "</style>\n",
              "<ol class=list-inline><li>-1.68869556708442</li><li>1.34121910977329</li></ol>\n",
              "</dd>\n",
              "\t<dt>$`3`</dt>\n",
              "\t\t<dd><style>\n",
              ".list-inline {list-style: none; margin:0; padding: 0}\n",
              ".list-inline>li {display: inline-block}\n",
              ".list-inline>li:not(:last-child)::after {content: \"\\00b7\"; padding: 0 .5ex}\n",
              "</style>\n",
              "<ol class=list-inline><li>0.153436081716791</li><li>0.586220856290311</li></ol>\n",
              "</dd>\n",
              "\t<dt>$`4`</dt>\n",
              "\t\t<dd><style>\n",
              ".list-inline {list-style: none; margin:0; padding: 0}\n",
              ".list-inline>li {display: inline-block}\n",
              ".list-inline>li:not(:last-child)::after {content: \"\\00b7\"; padding: 0 .5ex}\n",
              "</style>\n",
              "<ol class=list-inline><li>0.0506245675496757</li><li>0.93820594670251</li></ol>\n",
              "</dd>\n",
              "\t<dt>$`5`</dt>\n",
              "\t\t<dd><style>\n",
              ".list-inline {list-style: none; margin:0; padding: 0}\n",
              ".list-inline>li {display: inline-block}\n",
              ".list-inline>li:not(:last-child)::after {content: \"\\00b7\"; padding: 0 .5ex}\n",
              "</style>\n",
              "<ol class=list-inline><li>-0.348051489128782</li><li>2.46031988847196</li></ol>\n",
              "</dd>\n",
              "\t<dt>$`6`</dt>\n",
              "\t\t<dd><style>\n",
              ".list-inline {list-style: none; margin:0; padding: 0}\n",
              ".list-inline>li {display: inline-block}\n",
              ".list-inline>li:not(:last-child)::after {content: \"\\00b7\"; padding: 0 .5ex}\n",
              "</style>\n",
              "<ol class=list-inline><li>-0.684721695928308</li><li>1.96458637190166</li></ol>\n",
              "</dd>\n",
              "</dl>\n"
            ],
            "text/markdown": "$`1`\n:   1. -1.09702687407805\n2. 0.334838346672227\n\n\n\n$`2`\n:   1. -1.68869556708442\n2. 1.34121910977329\n\n\n\n$`3`\n:   1. 0.153436081716791\n2. 0.586220856290311\n\n\n\n$`4`\n:   1. 0.0506245675496757\n2. 0.93820594670251\n\n\n\n$`5`\n:   1. -0.348051489128782\n2. 2.46031988847196\n\n\n\n$`6`\n:   1. -0.684721695928308\n2. 1.96458637190166\n\n\n\n\n\n",
            "text/latex": "\\begin{description}\n\\item[\\$`1`] \\begin{enumerate*}\n\\item -1.09702687407805\n\\item 0.334838346672227\n\\end{enumerate*}\n\n\\item[\\$`2`] \\begin{enumerate*}\n\\item -1.68869556708442\n\\item 1.34121910977329\n\\end{enumerate*}\n\n\\item[\\$`3`] \\begin{enumerate*}\n\\item 0.153436081716791\n\\item 0.586220856290311\n\\end{enumerate*}\n\n\\item[\\$`4`] \\begin{enumerate*}\n\\item 0.0506245675496757\n\\item 0.93820594670251\n\\end{enumerate*}\n\n\\item[\\$`5`] \\begin{enumerate*}\n\\item -0.348051489128782\n\\item 2.46031988847196\n\\end{enumerate*}\n\n\\item[\\$`6`] \\begin{enumerate*}\n\\item -0.684721695928308\n\\item 1.96458637190166\n\\end{enumerate*}\n\n\\end{description}\n",
            "text/plain": [
              "$`1`\n",
              "[1] -1.0970269  0.3348383\n",
              "\n",
              "$`2`\n",
              "[1] -1.688696  1.341219\n",
              "\n",
              "$`3`\n",
              "[1] 0.1534361 0.5862209\n",
              "\n",
              "$`4`\n",
              "[1] 0.05062457 0.93820595\n",
              "\n",
              "$`5`\n",
              "[1] -0.3480515  2.4603199\n",
              "\n",
              "$`6`\n",
              "[1] -0.6847217  1.9645864\n"
            ]
          },
          "metadata": {}
        }
      ]
    },
    {
      "cell_type": "markdown",
      "source": [
        "# split()"
      ],
      "metadata": {
        "id": "AXeJoNgQWNpc"
      }
    },
    {
      "cell_type": "code",
      "source": [
        "str(split)"
      ],
      "metadata": {
        "colab": {
          "base_uri": "https://localhost:8080/"
        },
        "id": "pJHtq9PaVTCy",
        "outputId": "3b752b8e-545d-4b77-a9da-d2e41d5b5d07"
      },
      "execution_count": 36,
      "outputs": [
        {
          "output_type": "stream",
          "name": "stdout",
          "text": [
            "function (x, f, drop = FALSE, ...)  \n"
          ]
        }
      ]
    },
    {
      "cell_type": "code",
      "source": [
        "x <- c(rnorm(10), runif(10), rnorm(10, 1))\n",
        "f <- gl(3, 10)\n",
        "split(x, f)"
      ],
      "metadata": {
        "colab": {
          "base_uri": "https://localhost:8080/",
          "height": 201
        },
        "id": "3qIVirL-Va3T",
        "outputId": "357bc28f-d01c-4594-d924-5fabb2125041"
      },
      "execution_count": 37,
      "outputs": [
        {
          "output_type": "display_data",
          "data": {
            "text/html": [
              "<dl>\n",
              "\t<dt>$`1`</dt>\n",
              "\t\t<dd><style>\n",
              ".list-inline {list-style: none; margin:0; padding: 0}\n",
              ".list-inline>li {display: inline-block}\n",
              ".list-inline>li:not(:last-child)::after {content: \"\\00b7\"; padding: 0 .5ex}\n",
              "</style>\n",
              "<ol class=list-inline><li>1.76943204174518</li><li>-0.00703975625189609</li><li>-0.416341174915686</li><li>0.367756925131651</li><li>-1.23186080633851</li><li>-0.388329920747339</li><li>2.05994995050346</li><li>-0.0380072003155298</li><li>-0.16827416033403</li><li>0.445239368673056</li></ol>\n",
              "</dd>\n",
              "\t<dt>$`2`</dt>\n",
              "\t\t<dd><style>\n",
              ".list-inline {list-style: none; margin:0; padding: 0}\n",
              ".list-inline>li {display: inline-block}\n",
              ".list-inline>li:not(:last-child)::after {content: \"\\00b7\"; padding: 0 .5ex}\n",
              "</style>\n",
              "<ol class=list-inline><li>0.76334813865833</li><li>0.0875367957632989</li><li>0.104449843289331</li><li>0.159577941056341</li><li>0.235036642523482</li><li>0.0704085039906204</li><li>0.570371751207858</li><li>0.110033860662952</li><li>0.427542702760547</li><li>0.716300246538594</li></ol>\n",
              "</dd>\n",
              "\t<dt>$`3`</dt>\n",
              "\t\t<dd><style>\n",
              ".list-inline {list-style: none; margin:0; padding: 0}\n",
              ".list-inline>li {display: inline-block}\n",
              ".list-inline>li:not(:last-child)::after {content: \"\\00b7\"; padding: 0 .5ex}\n",
              "</style>\n",
              "<ol class=list-inline><li>-0.497617980473113</li><li>1.06014244338576</li><li>2.02755648351147</li><li>0.906841988234115</li><li>1.67362737657927</li><li>1.5937964420482</li><li>2.71226813456905</li><li>0.927826374151625</li><li>2.19196463616324</li><li>0.034828192489646</li></ol>\n",
              "</dd>\n",
              "</dl>\n"
            ],
            "text/markdown": "$`1`\n:   1. 1.76943204174518\n2. -0.00703975625189609\n3. -0.416341174915686\n4. 0.367756925131651\n5. -1.23186080633851\n6. -0.388329920747339\n7. 2.05994995050346\n8. -0.0380072003155298\n9. -0.16827416033403\n10. 0.445239368673056\n\n\n\n$`2`\n:   1. 0.76334813865833\n2. 0.0875367957632989\n3. 0.104449843289331\n4. 0.159577941056341\n5. 0.235036642523482\n6. 0.0704085039906204\n7. 0.570371751207858\n8. 0.110033860662952\n9. 0.427542702760547\n10. 0.716300246538594\n\n\n\n$`3`\n:   1. -0.497617980473113\n2. 1.06014244338576\n3. 2.02755648351147\n4. 0.906841988234115\n5. 1.67362737657927\n6. 1.5937964420482\n7. 2.71226813456905\n8. 0.927826374151625\n9. 2.19196463616324\n10. 0.034828192489646\n\n\n\n\n\n",
            "text/latex": "\\begin{description}\n\\item[\\$`1`] \\begin{enumerate*}\n\\item 1.76943204174518\n\\item -0.00703975625189609\n\\item -0.416341174915686\n\\item 0.367756925131651\n\\item -1.23186080633851\n\\item -0.388329920747339\n\\item 2.05994995050346\n\\item -0.0380072003155298\n\\item -0.16827416033403\n\\item 0.445239368673056\n\\end{enumerate*}\n\n\\item[\\$`2`] \\begin{enumerate*}\n\\item 0.76334813865833\n\\item 0.0875367957632989\n\\item 0.104449843289331\n\\item 0.159577941056341\n\\item 0.235036642523482\n\\item 0.0704085039906204\n\\item 0.570371751207858\n\\item 0.110033860662952\n\\item 0.427542702760547\n\\item 0.716300246538594\n\\end{enumerate*}\n\n\\item[\\$`3`] \\begin{enumerate*}\n\\item -0.497617980473113\n\\item 1.06014244338576\n\\item 2.02755648351147\n\\item 0.906841988234115\n\\item 1.67362737657927\n\\item 1.5937964420482\n\\item 2.71226813456905\n\\item 0.927826374151625\n\\item 2.19196463616324\n\\item 0.034828192489646\n\\end{enumerate*}\n\n\\end{description}\n",
            "text/plain": [
              "$`1`\n",
              " [1]  1.769432042 -0.007039756 -0.416341175  0.367756925 -1.231860806\n",
              " [6] -0.388329921  2.059949951 -0.038007200 -0.168274160  0.445239369\n",
              "\n",
              "$`2`\n",
              " [1] 0.7633481 0.0875368 0.1044498 0.1595779 0.2350366 0.0704085 0.5703718\n",
              " [8] 0.1100339 0.4275427 0.7163002\n",
              "\n",
              "$`3`\n",
              " [1] -0.49761798  1.06014244  2.02755648  0.90684199  1.67362738  1.59379644\n",
              " [7]  2.71226813  0.92782637  2.19196464  0.03482819\n"
            ]
          },
          "metadata": {}
        }
      ]
    },
    {
      "cell_type": "code",
      "source": [
        "x <- c(rnorm(10), runif(10), rnorm(10, 1))\n",
        "f <- gl(3, 10)\n",
        "lapply(split(x, f), mean)"
      ],
      "metadata": {
        "colab": {
          "base_uri": "https://localhost:8080/",
          "height": 149
        },
        "id": "Y16yjDcoVyTQ",
        "outputId": "5aae6b52-41b2-4fb3-bbf1-293610860c6f"
      },
      "execution_count": 38,
      "outputs": [
        {
          "output_type": "display_data",
          "data": {
            "text/html": [
              "<dl>\n",
              "\t<dt>$`1`</dt>\n",
              "\t\t<dd>0.597626007114201</dd>\n",
              "\t<dt>$`2`</dt>\n",
              "\t\t<dd>0.439947819150984</dd>\n",
              "\t<dt>$`3`</dt>\n",
              "\t\t<dd>0.909501873123425</dd>\n",
              "</dl>\n"
            ],
            "text/markdown": "$`1`\n:   0.597626007114201\n$`2`\n:   0.439947819150984\n$`3`\n:   0.909501873123425\n\n\n",
            "text/latex": "\\begin{description}\n\\item[\\$`1`] 0.597626007114201\n\\item[\\$`2`] 0.439947819150984\n\\item[\\$`3`] 0.909501873123425\n\\end{description}\n",
            "text/plain": [
              "$`1`\n",
              "[1] 0.597626\n",
              "\n",
              "$`2`\n",
              "[1] 0.4399478\n",
              "\n",
              "$`3`\n",
              "[1] 0.9095019\n"
            ]
          },
          "metadata": {}
        }
      ]
    },
    {
      "cell_type": "markdown",
      "source": [
        "# Splitting a Data Frame"
      ],
      "metadata": {
        "id": "O9V6MaQlWXwc"
      }
    },
    {
      "cell_type": "code",
      "source": [
        "library(datasets)\n",
        "head(airquality)\n",
        "s <- split(airquality, airquality$Month)\n",
        "lapply(s, function(x) colMeans(x[, c(\"Ozone\", \"Solar.R\", \"Wind\")]))"
      ],
      "metadata": {
        "colab": {
          "base_uri": "https://localhost:8080/",
          "height": 487
        },
        "id": "vnwf29zUWFhC",
        "outputId": "5b654f1f-3152-40e0-f7ed-ddaec4eddcac"
      },
      "execution_count": 39,
      "outputs": [
        {
          "output_type": "display_data",
          "data": {
            "text/html": [
              "<table class=\"dataframe\">\n",
              "<caption>A data.frame: 6 × 6</caption>\n",
              "<thead>\n",
              "\t<tr><th></th><th scope=col>Ozone</th><th scope=col>Solar.R</th><th scope=col>Wind</th><th scope=col>Temp</th><th scope=col>Month</th><th scope=col>Day</th></tr>\n",
              "\t<tr><th></th><th scope=col>&lt;int&gt;</th><th scope=col>&lt;int&gt;</th><th scope=col>&lt;dbl&gt;</th><th scope=col>&lt;int&gt;</th><th scope=col>&lt;int&gt;</th><th scope=col>&lt;int&gt;</th></tr>\n",
              "</thead>\n",
              "<tbody>\n",
              "\t<tr><th scope=row>1</th><td>41</td><td>190</td><td> 7.4</td><td>67</td><td>5</td><td>1</td></tr>\n",
              "\t<tr><th scope=row>2</th><td>36</td><td>118</td><td> 8.0</td><td>72</td><td>5</td><td>2</td></tr>\n",
              "\t<tr><th scope=row>3</th><td>12</td><td>149</td><td>12.6</td><td>74</td><td>5</td><td>3</td></tr>\n",
              "\t<tr><th scope=row>4</th><td>18</td><td>313</td><td>11.5</td><td>62</td><td>5</td><td>4</td></tr>\n",
              "\t<tr><th scope=row>5</th><td>NA</td><td> NA</td><td>14.3</td><td>56</td><td>5</td><td>5</td></tr>\n",
              "\t<tr><th scope=row>6</th><td>28</td><td> NA</td><td>14.9</td><td>66</td><td>5</td><td>6</td></tr>\n",
              "</tbody>\n",
              "</table>\n"
            ],
            "text/markdown": "\nA data.frame: 6 × 6\n\n| <!--/--> | Ozone &lt;int&gt; | Solar.R &lt;int&gt; | Wind &lt;dbl&gt; | Temp &lt;int&gt; | Month &lt;int&gt; | Day &lt;int&gt; |\n|---|---|---|---|---|---|---|\n| 1 | 41 | 190 |  7.4 | 67 | 5 | 1 |\n| 2 | 36 | 118 |  8.0 | 72 | 5 | 2 |\n| 3 | 12 | 149 | 12.6 | 74 | 5 | 3 |\n| 4 | 18 | 313 | 11.5 | 62 | 5 | 4 |\n| 5 | NA |  NA | 14.3 | 56 | 5 | 5 |\n| 6 | 28 |  NA | 14.9 | 66 | 5 | 6 |\n\n",
            "text/latex": "A data.frame: 6 × 6\n\\begin{tabular}{r|llllll}\n  & Ozone & Solar.R & Wind & Temp & Month & Day\\\\\n  & <int> & <int> & <dbl> & <int> & <int> & <int>\\\\\n\\hline\n\t1 & 41 & 190 &  7.4 & 67 & 5 & 1\\\\\n\t2 & 36 & 118 &  8.0 & 72 & 5 & 2\\\\\n\t3 & 12 & 149 & 12.6 & 74 & 5 & 3\\\\\n\t4 & 18 & 313 & 11.5 & 62 & 5 & 4\\\\\n\t5 & NA &  NA & 14.3 & 56 & 5 & 5\\\\\n\t6 & 28 &  NA & 14.9 & 66 & 5 & 6\\\\\n\\end{tabular}\n",
            "text/plain": [
              "  Ozone Solar.R Wind Temp Month Day\n",
              "1 41    190      7.4 67   5     1  \n",
              "2 36    118      8.0 72   5     2  \n",
              "3 12    149     12.6 74   5     3  \n",
              "4 18    313     11.5 62   5     4  \n",
              "5 NA     NA     14.3 56   5     5  \n",
              "6 28     NA     14.9 66   5     6  "
            ]
          },
          "metadata": {}
        },
        {
          "output_type": "display_data",
          "data": {
            "text/html": [
              "<dl>\n",
              "\t<dt>$`5`</dt>\n",
              "\t\t<dd><style>\n",
              ".dl-inline {width: auto; margin:0; padding: 0}\n",
              ".dl-inline>dt, .dl-inline>dd {float: none; width: auto; display: inline-block}\n",
              ".dl-inline>dt::after {content: \":\\0020\"; padding-right: .5ex}\n",
              ".dl-inline>dt:not(:first-of-type) {padding-left: .5ex}\n",
              "</style><dl class=dl-inline><dt>Ozone</dt><dd>&lt;NA&gt;</dd><dt>Solar.R</dt><dd>&lt;NA&gt;</dd><dt>Wind</dt><dd>11.6225806451613</dd></dl>\n",
              "</dd>\n",
              "\t<dt>$`6`</dt>\n",
              "\t\t<dd><style>\n",
              ".dl-inline {width: auto; margin:0; padding: 0}\n",
              ".dl-inline>dt, .dl-inline>dd {float: none; width: auto; display: inline-block}\n",
              ".dl-inline>dt::after {content: \":\\0020\"; padding-right: .5ex}\n",
              ".dl-inline>dt:not(:first-of-type) {padding-left: .5ex}\n",
              "</style><dl class=dl-inline><dt>Ozone</dt><dd>&lt;NA&gt;</dd><dt>Solar.R</dt><dd>190.166666666667</dd><dt>Wind</dt><dd>10.2666666666667</dd></dl>\n",
              "</dd>\n",
              "\t<dt>$`7`</dt>\n",
              "\t\t<dd><style>\n",
              ".dl-inline {width: auto; margin:0; padding: 0}\n",
              ".dl-inline>dt, .dl-inline>dd {float: none; width: auto; display: inline-block}\n",
              ".dl-inline>dt::after {content: \":\\0020\"; padding-right: .5ex}\n",
              ".dl-inline>dt:not(:first-of-type) {padding-left: .5ex}\n",
              "</style><dl class=dl-inline><dt>Ozone</dt><dd>&lt;NA&gt;</dd><dt>Solar.R</dt><dd>216.483870967742</dd><dt>Wind</dt><dd>8.94193548387097</dd></dl>\n",
              "</dd>\n",
              "\t<dt>$`8`</dt>\n",
              "\t\t<dd><style>\n",
              ".dl-inline {width: auto; margin:0; padding: 0}\n",
              ".dl-inline>dt, .dl-inline>dd {float: none; width: auto; display: inline-block}\n",
              ".dl-inline>dt::after {content: \":\\0020\"; padding-right: .5ex}\n",
              ".dl-inline>dt:not(:first-of-type) {padding-left: .5ex}\n",
              "</style><dl class=dl-inline><dt>Ozone</dt><dd>&lt;NA&gt;</dd><dt>Solar.R</dt><dd>&lt;NA&gt;</dd><dt>Wind</dt><dd>8.79354838709677</dd></dl>\n",
              "</dd>\n",
              "\t<dt>$`9`</dt>\n",
              "\t\t<dd><style>\n",
              ".dl-inline {width: auto; margin:0; padding: 0}\n",
              ".dl-inline>dt, .dl-inline>dd {float: none; width: auto; display: inline-block}\n",
              ".dl-inline>dt::after {content: \":\\0020\"; padding-right: .5ex}\n",
              ".dl-inline>dt:not(:first-of-type) {padding-left: .5ex}\n",
              "</style><dl class=dl-inline><dt>Ozone</dt><dd>&lt;NA&gt;</dd><dt>Solar.R</dt><dd>167.433333333333</dd><dt>Wind</dt><dd>10.18</dd></dl>\n",
              "</dd>\n",
              "</dl>\n"
            ],
            "text/markdown": "$`5`\n:   Ozone\n:   &lt;NA&gt;Solar.R\n:   &lt;NA&gt;Wind\n:   11.6225806451613\n\n\n$`6`\n:   Ozone\n:   &lt;NA&gt;Solar.R\n:   190.166666666667Wind\n:   10.2666666666667\n\n\n$`7`\n:   Ozone\n:   &lt;NA&gt;Solar.R\n:   216.483870967742Wind\n:   8.94193548387097\n\n\n$`8`\n:   Ozone\n:   &lt;NA&gt;Solar.R\n:   &lt;NA&gt;Wind\n:   8.79354838709677\n\n\n$`9`\n:   Ozone\n:   &lt;NA&gt;Solar.R\n:   167.433333333333Wind\n:   10.18\n\n\n\n\n",
            "text/latex": "\\begin{description}\n\\item[\\$`5`] \\begin{description*}\n\\item[Ozone] <NA>\n\\item[Solar.R] <NA>\n\\item[Wind] 11.6225806451613\n\\end{description*}\n\n\\item[\\$`6`] \\begin{description*}\n\\item[Ozone] <NA>\n\\item[Solar.R] 190.166666666667\n\\item[Wind] 10.2666666666667\n\\end{description*}\n\n\\item[\\$`7`] \\begin{description*}\n\\item[Ozone] <NA>\n\\item[Solar.R] 216.483870967742\n\\item[Wind] 8.94193548387097\n\\end{description*}\n\n\\item[\\$`8`] \\begin{description*}\n\\item[Ozone] <NA>\n\\item[Solar.R] <NA>\n\\item[Wind] 8.79354838709677\n\\end{description*}\n\n\\item[\\$`9`] \\begin{description*}\n\\item[Ozone] <NA>\n\\item[Solar.R] 167.433333333333\n\\item[Wind] 10.18\n\\end{description*}\n\n\\end{description}\n",
            "text/plain": [
              "$`5`\n",
              "   Ozone  Solar.R     Wind \n",
              "      NA       NA 11.62258 \n",
              "\n",
              "$`6`\n",
              "    Ozone   Solar.R      Wind \n",
              "       NA 190.16667  10.26667 \n",
              "\n",
              "$`7`\n",
              "     Ozone    Solar.R       Wind \n",
              "        NA 216.483871   8.941935 \n",
              "\n",
              "$`8`\n",
              "   Ozone  Solar.R     Wind \n",
              "      NA       NA 8.793548 \n",
              "\n",
              "$`9`\n",
              "   Ozone  Solar.R     Wind \n",
              "      NA 167.4333  10.1800 \n"
            ]
          },
          "metadata": {}
        }
      ]
    },
    {
      "cell_type": "code",
      "source": [
        "sapply(s, function(x) colMeans(x[, c(\"Ozone\", \"Solar.R\", \"Wind\")]))"
      ],
      "metadata": {
        "colab": {
          "base_uri": "https://localhost:8080/",
          "height": 160
        },
        "id": "gJ7hcvULX-7k",
        "outputId": "21eb95e2-0585-476c-aade-33a3ffc53d83"
      },
      "execution_count": 40,
      "outputs": [
        {
          "output_type": "display_data",
          "data": {
            "text/html": [
              "<table class=\"dataframe\">\n",
              "<caption>A matrix: 3 × 5 of type dbl</caption>\n",
              "<thead>\n",
              "\t<tr><th></th><th scope=col>5</th><th scope=col>6</th><th scope=col>7</th><th scope=col>8</th><th scope=col>9</th></tr>\n",
              "</thead>\n",
              "<tbody>\n",
              "\t<tr><th scope=row>Ozone</th><td>      NA</td><td>       NA</td><td>        NA</td><td>      NA</td><td>      NA</td></tr>\n",
              "\t<tr><th scope=row>Solar.R</th><td>      NA</td><td>190.16667</td><td>216.483871</td><td>      NA</td><td>167.4333</td></tr>\n",
              "\t<tr><th scope=row>Wind</th><td>11.62258</td><td> 10.26667</td><td>  8.941935</td><td>8.793548</td><td> 10.1800</td></tr>\n",
              "</tbody>\n",
              "</table>\n"
            ],
            "text/markdown": "\nA matrix: 3 × 5 of type dbl\n\n| <!--/--> | 5 | 6 | 7 | 8 | 9 |\n|---|---|---|---|---|---|\n| Ozone |       NA |        NA |         NA |       NA |       NA |\n| Solar.R |       NA | 190.16667 | 216.483871 |       NA | 167.4333 |\n| Wind | 11.62258 |  10.26667 |   8.941935 | 8.793548 |  10.1800 |\n\n",
            "text/latex": "A matrix: 3 × 5 of type dbl\n\\begin{tabular}{r|lllll}\n  & 5 & 6 & 7 & 8 & 9\\\\\n\\hline\n\tOzone &       NA &        NA &         NA &       NA &       NA\\\\\n\tSolar.R &       NA & 190.16667 & 216.483871 &       NA & 167.4333\\\\\n\tWind & 11.62258 &  10.26667 &   8.941935 & 8.793548 &  10.1800\\\\\n\\end{tabular}\n",
            "text/plain": [
              "        5        6         7          8        9       \n",
              "Ozone         NA        NA         NA       NA       NA\n",
              "Solar.R       NA 190.16667 216.483871       NA 167.4333\n",
              "Wind    11.62258  10.26667   8.941935 8.793548  10.1800"
            ]
          },
          "metadata": {}
        }
      ]
    },
    {
      "cell_type": "code",
      "source": [
        "sapply(s, function(x) colMeans(x[, c(\"Ozone\", \"Solar.R\", \"Wind\")], na.rm  = TRUE))"
      ],
      "metadata": {
        "colab": {
          "base_uri": "https://localhost:8080/",
          "height": 160
        },
        "id": "H5hOxHaMYHwW",
        "outputId": "c45f19b2-a898-436e-ad3a-9b343b06ddc4"
      },
      "execution_count": 41,
      "outputs": [
        {
          "output_type": "display_data",
          "data": {
            "text/html": [
              "<table class=\"dataframe\">\n",
              "<caption>A matrix: 3 × 5 of type dbl</caption>\n",
              "<thead>\n",
              "\t<tr><th></th><th scope=col>5</th><th scope=col>6</th><th scope=col>7</th><th scope=col>8</th><th scope=col>9</th></tr>\n",
              "</thead>\n",
              "<tbody>\n",
              "\t<tr><th scope=row>Ozone</th><td> 23.61538</td><td> 29.44444</td><td> 59.115385</td><td> 59.961538</td><td> 31.44828</td></tr>\n",
              "\t<tr><th scope=row>Solar.R</th><td>181.29630</td><td>190.16667</td><td>216.483871</td><td>171.857143</td><td>167.43333</td></tr>\n",
              "\t<tr><th scope=row>Wind</th><td> 11.62258</td><td> 10.26667</td><td>  8.941935</td><td>  8.793548</td><td> 10.18000</td></tr>\n",
              "</tbody>\n",
              "</table>\n"
            ],
            "text/markdown": "\nA matrix: 3 × 5 of type dbl\n\n| <!--/--> | 5 | 6 | 7 | 8 | 9 |\n|---|---|---|---|---|---|\n| Ozone |  23.61538 |  29.44444 |  59.115385 |  59.961538 |  31.44828 |\n| Solar.R | 181.29630 | 190.16667 | 216.483871 | 171.857143 | 167.43333 |\n| Wind |  11.62258 |  10.26667 |   8.941935 |   8.793548 |  10.18000 |\n\n",
            "text/latex": "A matrix: 3 × 5 of type dbl\n\\begin{tabular}{r|lllll}\n  & 5 & 6 & 7 & 8 & 9\\\\\n\\hline\n\tOzone &  23.61538 &  29.44444 &  59.115385 &  59.961538 &  31.44828\\\\\n\tSolar.R & 181.29630 & 190.16667 & 216.483871 & 171.857143 & 167.43333\\\\\n\tWind &  11.62258 &  10.26667 &   8.941935 &   8.793548 &  10.18000\\\\\n\\end{tabular}\n",
            "text/plain": [
              "        5         6         7          8          9        \n",
              "Ozone    23.61538  29.44444  59.115385  59.961538  31.44828\n",
              "Solar.R 181.29630 190.16667 216.483871 171.857143 167.43333\n",
              "Wind     11.62258  10.26667   8.941935   8.793548  10.18000"
            ]
          },
          "metadata": {}
        }
      ]
    },
    {
      "cell_type": "code",
      "source": [
        "x <- rnorm(10)\n",
        "f1 <- gl(2, 5)\n",
        "f2 <- gl(5, 2)\n",
        "f1\n",
        "f2\n",
        "split(x, list(f1, f2))"
      ],
      "metadata": {
        "colab": {
          "base_uri": "https://localhost:8080/",
          "height": 392
        },
        "id": "iUUMt_vQYOaF",
        "outputId": "2d8478c2-e9cc-4152-d963-31b04c259289"
      },
      "execution_count": 42,
      "outputs": [
        {
          "output_type": "display_data",
          "data": {
            "text/html": [
              "<style>\n",
              ".list-inline {list-style: none; margin:0; padding: 0}\n",
              ".list-inline>li {display: inline-block}\n",
              ".list-inline>li:not(:last-child)::after {content: \"\\00b7\"; padding: 0 .5ex}\n",
              "</style>\n",
              "<ol class=list-inline><li>1</li><li>1</li><li>1</li><li>1</li><li>1</li><li>2</li><li>2</li><li>2</li><li>2</li><li>2</li></ol>\n",
              "\n",
              "<details>\n",
              "\t<summary style=display:list-item;cursor:pointer>\n",
              "\t\t<strong>Levels</strong>:\n",
              "\t</summary>\n",
              "\t<style>\n",
              "\t.list-inline {list-style: none; margin:0; padding: 0}\n",
              "\t.list-inline>li {display: inline-block}\n",
              "\t.list-inline>li:not(:last-child)::after {content: \"\\00b7\"; padding: 0 .5ex}\n",
              "\t</style>\n",
              "\t<ol class=list-inline><li>'1'</li><li>'2'</li></ol>\n",
              "</details>"
            ],
            "text/markdown": "1. 1\n2. 1\n3. 1\n4. 1\n5. 1\n6. 2\n7. 2\n8. 2\n9. 2\n10. 2\n\n\n\n**Levels**: 1. '1'\n2. '2'\n\n\n",
            "text/latex": "\\begin{enumerate*}\n\\item 1\n\\item 1\n\\item 1\n\\item 1\n\\item 1\n\\item 2\n\\item 2\n\\item 2\n\\item 2\n\\item 2\n\\end{enumerate*}\n\n\\emph{Levels}: \\begin{enumerate*}\n\\item '1'\n\\item '2'\n\\end{enumerate*}\n",
            "text/plain": [
              " [1] 1 1 1 1 1 2 2 2 2 2\n",
              "Levels: 1 2"
            ]
          },
          "metadata": {}
        },
        {
          "output_type": "display_data",
          "data": {
            "text/html": [
              "<style>\n",
              ".list-inline {list-style: none; margin:0; padding: 0}\n",
              ".list-inline>li {display: inline-block}\n",
              ".list-inline>li:not(:last-child)::after {content: \"\\00b7\"; padding: 0 .5ex}\n",
              "</style>\n",
              "<ol class=list-inline><li>1</li><li>1</li><li>2</li><li>2</li><li>3</li><li>3</li><li>4</li><li>4</li><li>5</li><li>5</li></ol>\n",
              "\n",
              "<details>\n",
              "\t<summary style=display:list-item;cursor:pointer>\n",
              "\t\t<strong>Levels</strong>:\n",
              "\t</summary>\n",
              "\t<style>\n",
              "\t.list-inline {list-style: none; margin:0; padding: 0}\n",
              "\t.list-inline>li {display: inline-block}\n",
              "\t.list-inline>li:not(:last-child)::after {content: \"\\00b7\"; padding: 0 .5ex}\n",
              "\t</style>\n",
              "\t<ol class=list-inline><li>'1'</li><li>'2'</li><li>'3'</li><li>'4'</li><li>'5'</li></ol>\n",
              "</details>"
            ],
            "text/markdown": "1. 1\n2. 1\n3. 2\n4. 2\n5. 3\n6. 3\n7. 4\n8. 4\n9. 5\n10. 5\n\n\n\n**Levels**: 1. '1'\n2. '2'\n3. '3'\n4. '4'\n5. '5'\n\n\n",
            "text/latex": "\\begin{enumerate*}\n\\item 1\n\\item 1\n\\item 2\n\\item 2\n\\item 3\n\\item 3\n\\item 4\n\\item 4\n\\item 5\n\\item 5\n\\end{enumerate*}\n\n\\emph{Levels}: \\begin{enumerate*}\n\\item '1'\n\\item '2'\n\\item '3'\n\\item '4'\n\\item '5'\n\\end{enumerate*}\n",
            "text/plain": [
              " [1] 1 1 2 2 3 3 4 4 5 5\n",
              "Levels: 1 2 3 4 5"
            ]
          },
          "metadata": {}
        },
        {
          "output_type": "display_data",
          "data": {
            "text/html": [
              "<dl>\n",
              "\t<dt>$`1.1`</dt>\n",
              "\t\t<dd><style>\n",
              ".list-inline {list-style: none; margin:0; padding: 0}\n",
              ".list-inline>li {display: inline-block}\n",
              ".list-inline>li:not(:last-child)::after {content: \"\\00b7\"; padding: 0 .5ex}\n",
              "</style>\n",
              "<ol class=list-inline><li>-1.83693840385151</li><li>-0.244201179413742</li></ol>\n",
              "</dd>\n",
              "\t<dt>$`2.1`</dt>\n",
              "\t\t<dd></dd>\n",
              "\t<dt>$`1.2`</dt>\n",
              "\t\t<dd><style>\n",
              ".list-inline {list-style: none; margin:0; padding: 0}\n",
              ".list-inline>li {display: inline-block}\n",
              ".list-inline>li:not(:last-child)::after {content: \"\\00b7\"; padding: 0 .5ex}\n",
              "</style>\n",
              "<ol class=list-inline><li>-0.722430360422333</li><li>0.720957097817264</li></ol>\n",
              "</dd>\n",
              "\t<dt>$`2.2`</dt>\n",
              "\t\t<dd></dd>\n",
              "\t<dt>$`1.3`</dt>\n",
              "\t\t<dd>-1.00182278025805</dd>\n",
              "\t<dt>$`2.3`</dt>\n",
              "\t\t<dd>-1.39518702382764</dd>\n",
              "\t<dt>$`1.4`</dt>\n",
              "\t\t<dd></dd>\n",
              "\t<dt>$`2.4`</dt>\n",
              "\t\t<dd><style>\n",
              ".list-inline {list-style: none; margin:0; padding: 0}\n",
              ".list-inline>li {display: inline-block}\n",
              ".list-inline>li:not(:last-child)::after {content: \"\\00b7\"; padding: 0 .5ex}\n",
              "</style>\n",
              "<ol class=list-inline><li>1.94695119818637</li><li>-0.478381626044746</li></ol>\n",
              "</dd>\n",
              "\t<dt>$`1.5`</dt>\n",
              "\t\t<dd></dd>\n",
              "\t<dt>$`2.5`</dt>\n",
              "\t\t<dd><style>\n",
              ".list-inline {list-style: none; margin:0; padding: 0}\n",
              ".list-inline>li {display: inline-block}\n",
              ".list-inline>li:not(:last-child)::after {content: \"\\00b7\"; padding: 0 .5ex}\n",
              "</style>\n",
              "<ol class=list-inline><li>-0.0286888145361021</li><li>0.0544531855980363</li></ol>\n",
              "</dd>\n",
              "</dl>\n"
            ],
            "text/markdown": "$`1.1`\n:   1. -1.83693840385151\n2. -0.244201179413742\n\n\n\n$`2.1`\n:   \n$`1.2`\n:   1. -0.722430360422333\n2. 0.720957097817264\n\n\n\n$`2.2`\n:   \n$`1.3`\n:   -1.00182278025805\n$`2.3`\n:   -1.39518702382764\n$`1.4`\n:   \n$`2.4`\n:   1. 1.94695119818637\n2. -0.478381626044746\n\n\n\n$`1.5`\n:   \n$`2.5`\n:   1. -0.0286888145361021\n2. 0.0544531855980363\n\n\n\n\n\n",
            "text/latex": "\\begin{description}\n\\item[\\$`1.1`] \\begin{enumerate*}\n\\item -1.83693840385151\n\\item -0.244201179413742\n\\end{enumerate*}\n\n\\item[\\$`2.1`] \n\\item[\\$`1.2`] \\begin{enumerate*}\n\\item -0.722430360422333\n\\item 0.720957097817264\n\\end{enumerate*}\n\n\\item[\\$`2.2`] \n\\item[\\$`1.3`] -1.00182278025805\n\\item[\\$`2.3`] -1.39518702382764\n\\item[\\$`1.4`] \n\\item[\\$`2.4`] \\begin{enumerate*}\n\\item 1.94695119818637\n\\item -0.478381626044746\n\\end{enumerate*}\n\n\\item[\\$`1.5`] \n\\item[\\$`2.5`] \\begin{enumerate*}\n\\item -0.0286888145361021\n\\item 0.0544531855980363\n\\end{enumerate*}\n\n\\end{description}\n",
            "text/plain": [
              "$`1.1`\n",
              "[1] -1.8369384 -0.2442012\n",
              "\n",
              "$`2.1`\n",
              "numeric(0)\n",
              "\n",
              "$`1.2`\n",
              "[1] -0.7224304  0.7209571\n",
              "\n",
              "$`2.2`\n",
              "numeric(0)\n",
              "\n",
              "$`1.3`\n",
              "[1] -1.001823\n",
              "\n",
              "$`2.3`\n",
              "[1] -1.395187\n",
              "\n",
              "$`1.4`\n",
              "numeric(0)\n",
              "\n",
              "$`2.4`\n",
              "[1]  1.9469512 -0.4783816\n",
              "\n",
              "$`1.5`\n",
              "numeric(0)\n",
              "\n",
              "$`2.5`\n",
              "[1] -0.02868881  0.05445319\n"
            ]
          },
          "metadata": {}
        }
      ]
    },
    {
      "cell_type": "code",
      "source": [
        "str(split(x, list(f1, f2)))"
      ],
      "metadata": {
        "colab": {
          "base_uri": "https://localhost:8080/"
        },
        "id": "DGiRbfzvYsek",
        "outputId": "05bfc34e-53c7-465f-bf2e-d1e58d352ac1"
      },
      "execution_count": 43,
      "outputs": [
        {
          "output_type": "stream",
          "name": "stdout",
          "text": [
            "List of 10\n",
            " $ 1.1: num [1:2] -1.837 -0.244\n",
            " $ 2.1: num(0) \n",
            " $ 1.2: num [1:2] -0.722 0.721\n",
            " $ 2.2: num(0) \n",
            " $ 1.3: num -1\n",
            " $ 2.3: num -1.4\n",
            " $ 1.4: num(0) \n",
            " $ 2.4: num [1:2] 1.947 -0.478\n",
            " $ 1.5: num(0) \n",
            " $ 2.5: num [1:2] -0.0287 0.0545\n"
          ]
        }
      ]
    },
    {
      "cell_type": "code",
      "source": [
        "str(split(x, list(f1, f2),drop=TRUE))"
      ],
      "metadata": {
        "colab": {
          "base_uri": "https://localhost:8080/"
        },
        "id": "9Az3wk9vYtag",
        "outputId": "d765caab-27aa-4cd0-8a89-a74beb70dd10"
      },
      "execution_count": 45,
      "outputs": [
        {
          "output_type": "stream",
          "name": "stdout",
          "text": [
            "List of 6\n",
            " $ 1.1: num [1:2] -1.837 -0.244\n",
            " $ 1.2: num [1:2] -0.722 0.721\n",
            " $ 1.3: num -1\n",
            " $ 2.3: num -1.4\n",
            " $ 2.4: num [1:2] 1.947 -0.478\n",
            " $ 2.5: num [1:2] -0.0287 0.0545\n"
          ]
        }
      ]
    },
    {
      "cell_type": "markdown",
      "source": [
        "# mapply()"
      ],
      "metadata": {
        "id": "xH7tmgoHZLBq"
      }
    },
    {
      "cell_type": "code",
      "source": [
        "str(mapply)"
      ],
      "metadata": {
        "colab": {
          "base_uri": "https://localhost:8080/"
        },
        "id": "jKzWxedYZOdK",
        "outputId": "ddd5feea-9182-4f76-e9b8-6efeaa1bdd65"
      },
      "execution_count": 46,
      "outputs": [
        {
          "output_type": "stream",
          "name": "stdout",
          "text": [
            "function (FUN, ..., MoreArgs = NULL, SIMPLIFY = TRUE, USE.NAMES = TRUE)  \n"
          ]
        }
      ]
    },
    {
      "cell_type": "code",
      "source": [
        "list(rep(1, 4), rep(2, 3), rep(3, 2), rep(4, 1))"
      ],
      "metadata": {
        "colab": {
          "base_uri": "https://localhost:8080/",
          "height": 114
        },
        "id": "DKi4rP2HaLGN",
        "outputId": "6f10dae0-105b-4c7a-8016-28c5baaa7425"
      },
      "execution_count": 47,
      "outputs": [
        {
          "output_type": "display_data",
          "data": {
            "text/html": [
              "<ol>\n",
              "\t<li><style>\n",
              ".list-inline {list-style: none; margin:0; padding: 0}\n",
              ".list-inline>li {display: inline-block}\n",
              ".list-inline>li:not(:last-child)::after {content: \"\\00b7\"; padding: 0 .5ex}\n",
              "</style>\n",
              "<ol class=list-inline><li>1</li><li>1</li><li>1</li><li>1</li></ol>\n",
              "</li>\n",
              "\t<li><style>\n",
              ".list-inline {list-style: none; margin:0; padding: 0}\n",
              ".list-inline>li {display: inline-block}\n",
              ".list-inline>li:not(:last-child)::after {content: \"\\00b7\"; padding: 0 .5ex}\n",
              "</style>\n",
              "<ol class=list-inline><li>2</li><li>2</li><li>2</li></ol>\n",
              "</li>\n",
              "\t<li><style>\n",
              ".list-inline {list-style: none; margin:0; padding: 0}\n",
              ".list-inline>li {display: inline-block}\n",
              ".list-inline>li:not(:last-child)::after {content: \"\\00b7\"; padding: 0 .5ex}\n",
              "</style>\n",
              "<ol class=list-inline><li>3</li><li>3</li></ol>\n",
              "</li>\n",
              "\t<li>4</li>\n",
              "</ol>\n"
            ],
            "text/markdown": "1. 1. 1\n2. 1\n3. 1\n4. 1\n\n\n\n2. 1. 2\n2. 2\n3. 2\n\n\n\n3. 1. 3\n2. 3\n\n\n\n4. 4\n\n\n",
            "text/latex": "\\begin{enumerate}\n\\item \\begin{enumerate*}\n\\item 1\n\\item 1\n\\item 1\n\\item 1\n\\end{enumerate*}\n\n\\item \\begin{enumerate*}\n\\item 2\n\\item 2\n\\item 2\n\\end{enumerate*}\n\n\\item \\begin{enumerate*}\n\\item 3\n\\item 3\n\\end{enumerate*}\n\n\\item 4\n\\end{enumerate}\n",
            "text/plain": [
              "[[1]]\n",
              "[1] 1 1 1 1\n",
              "\n",
              "[[2]]\n",
              "[1] 2 2 2\n",
              "\n",
              "[[3]]\n",
              "[1] 3 3\n",
              "\n",
              "[[4]]\n",
              "[1] 4\n"
            ]
          },
          "metadata": {}
        }
      ]
    },
    {
      "cell_type": "code",
      "source": [
        "mapply(rep, 1:4, 4:1) # same as above"
      ],
      "metadata": {
        "colab": {
          "base_uri": "https://localhost:8080/",
          "height": 114
        },
        "id": "MBgGgI_XaiUG",
        "outputId": "056eb2c9-efaf-44eb-adfd-08a890b1bf97"
      },
      "execution_count": 48,
      "outputs": [
        {
          "output_type": "display_data",
          "data": {
            "text/html": [
              "<ol>\n",
              "\t<li><style>\n",
              ".list-inline {list-style: none; margin:0; padding: 0}\n",
              ".list-inline>li {display: inline-block}\n",
              ".list-inline>li:not(:last-child)::after {content: \"\\00b7\"; padding: 0 .5ex}\n",
              "</style>\n",
              "<ol class=list-inline><li>1</li><li>1</li><li>1</li><li>1</li></ol>\n",
              "</li>\n",
              "\t<li><style>\n",
              ".list-inline {list-style: none; margin:0; padding: 0}\n",
              ".list-inline>li {display: inline-block}\n",
              ".list-inline>li:not(:last-child)::after {content: \"\\00b7\"; padding: 0 .5ex}\n",
              "</style>\n",
              "<ol class=list-inline><li>2</li><li>2</li><li>2</li></ol>\n",
              "</li>\n",
              "\t<li><style>\n",
              ".list-inline {list-style: none; margin:0; padding: 0}\n",
              ".list-inline>li {display: inline-block}\n",
              ".list-inline>li:not(:last-child)::after {content: \"\\00b7\"; padding: 0 .5ex}\n",
              "</style>\n",
              "<ol class=list-inline><li>3</li><li>3</li></ol>\n",
              "</li>\n",
              "\t<li>4</li>\n",
              "</ol>\n"
            ],
            "text/markdown": "1. 1. 1\n2. 1\n3. 1\n4. 1\n\n\n\n2. 1. 2\n2. 2\n3. 2\n\n\n\n3. 1. 3\n2. 3\n\n\n\n4. 4\n\n\n",
            "text/latex": "\\begin{enumerate}\n\\item \\begin{enumerate*}\n\\item 1\n\\item 1\n\\item 1\n\\item 1\n\\end{enumerate*}\n\n\\item \\begin{enumerate*}\n\\item 2\n\\item 2\n\\item 2\n\\end{enumerate*}\n\n\\item \\begin{enumerate*}\n\\item 3\n\\item 3\n\\end{enumerate*}\n\n\\item 4\n\\end{enumerate}\n",
            "text/plain": [
              "[[1]]\n",
              "[1] 1 1 1 1\n",
              "\n",
              "[[2]]\n",
              "[1] 2 2 2\n",
              "\n",
              "[[3]]\n",
              "[1] 3 3\n",
              "\n",
              "[[4]]\n",
              "[1] 4\n"
            ]
          },
          "metadata": {}
        }
      ]
    },
    {
      "cell_type": "markdown",
      "source": [
        "Vectorizing a function"
      ],
      "metadata": {
        "id": "HuEdJ95Ea_JY"
      }
    },
    {
      "cell_type": "code",
      "source": [
        "noise <- function(n, mean, sd) {\n",
        "  rnorm(n, mean, sd)\n",
        "}\n",
        "noise(5, 1, 2)\n",
        "noise(1:5, 1:5, 2) # not work as expected"
      ],
      "metadata": {
        "colab": {
          "base_uri": "https://localhost:8080/",
          "height": 52
        },
        "id": "t7lVOpKDa8w6",
        "outputId": "c5ef60f3-cf23-4aac-82be-8cb770cdb39d"
      },
      "execution_count": 54,
      "outputs": [
        {
          "output_type": "display_data",
          "data": {
            "text/html": [
              "<style>\n",
              ".list-inline {list-style: none; margin:0; padding: 0}\n",
              ".list-inline>li {display: inline-block}\n",
              ".list-inline>li:not(:last-child)::after {content: \"\\00b7\"; padding: 0 .5ex}\n",
              "</style>\n",
              "<ol class=list-inline><li>3.0758824232641</li><li>3.8580133904071</li><li>-2.80697980825993</li><li>-0.872778124579148</li><li>-2.44534957823487</li></ol>\n"
            ],
            "text/markdown": "1. 3.0758824232641\n2. 3.8580133904071\n3. -2.80697980825993\n4. -0.872778124579148\n5. -2.44534957823487\n\n\n",
            "text/latex": "\\begin{enumerate*}\n\\item 3.0758824232641\n\\item 3.8580133904071\n\\item -2.80697980825993\n\\item -0.872778124579148\n\\item -2.44534957823487\n\\end{enumerate*}\n",
            "text/plain": [
              "[1]  3.0758824  3.8580134 -2.8069798 -0.8727781 -2.4453496"
            ]
          },
          "metadata": {}
        },
        {
          "output_type": "display_data",
          "data": {
            "text/html": [
              "<style>\n",
              ".list-inline {list-style: none; margin:0; padding: 0}\n",
              ".list-inline>li {display: inline-block}\n",
              ".list-inline>li:not(:last-child)::after {content: \"\\00b7\"; padding: 0 .5ex}\n",
              "</style>\n",
              "<ol class=list-inline><li>1.6841748237983</li><li>-1.3477457805005</li><li>1.00165419619258</li><li>0.480181983076521</li><li>5.33460465475441</li></ol>\n"
            ],
            "text/markdown": "1. 1.6841748237983\n2. -1.3477457805005\n3. 1.00165419619258\n4. 0.480181983076521\n5. 5.33460465475441\n\n\n",
            "text/latex": "\\begin{enumerate*}\n\\item 1.6841748237983\n\\item -1.3477457805005\n\\item 1.00165419619258\n\\item 0.480181983076521\n\\item 5.33460465475441\n\\end{enumerate*}\n",
            "text/plain": [
              "[1]  1.684175 -1.347746  1.001654  0.480182  5.334605"
            ]
          },
          "metadata": {}
        }
      ]
    },
    {
      "cell_type": "code",
      "source": [
        "mapply(noise, 1:5, 1:5, 2)\n",
        "# list(noise(1, 1, 2), noise(2, 2, 2), noise(3, 3, 2), noise(4, 4, 2), noise(5, 5, 2))"
      ],
      "metadata": {
        "colab": {
          "base_uri": "https://localhost:8080/",
          "height": 132
        },
        "id": "V9P02OUzbkyp",
        "outputId": "e6c28fae-d521-423c-91e2-1c5100c0b96d"
      },
      "execution_count": 56,
      "outputs": [
        {
          "output_type": "display_data",
          "data": {
            "text/html": [
              "<ol>\n",
              "\t<li>2.9640697238819</li>\n",
              "\t<li><style>\n",
              ".list-inline {list-style: none; margin:0; padding: 0}\n",
              ".list-inline>li {display: inline-block}\n",
              ".list-inline>li:not(:last-child)::after {content: \"\\00b7\"; padding: 0 .5ex}\n",
              "</style>\n",
              "<ol class=list-inline><li>1.57105256530942</li><li>0.96916258403466</li></ol>\n",
              "</li>\n",
              "\t<li><style>\n",
              ".list-inline {list-style: none; margin:0; padding: 0}\n",
              ".list-inline>li {display: inline-block}\n",
              ".list-inline>li:not(:last-child)::after {content: \"\\00b7\"; padding: 0 .5ex}\n",
              "</style>\n",
              "<ol class=list-inline><li>2.80249518424506</li><li>4.26672997815982</li><li>6.50834827739236</li></ol>\n",
              "</li>\n",
              "\t<li><style>\n",
              ".list-inline {list-style: none; margin:0; padding: 0}\n",
              ".list-inline>li {display: inline-block}\n",
              ".list-inline>li:not(:last-child)::after {content: \"\\00b7\"; padding: 0 .5ex}\n",
              "</style>\n",
              "<ol class=list-inline><li>1.99103917209261</li><li>6.22139356445871</li><li>2.65795387998886</li><li>3.22325443965027</li></ol>\n",
              "</li>\n",
              "\t<li><style>\n",
              ".list-inline {list-style: none; margin:0; padding: 0}\n",
              ".list-inline>li {display: inline-block}\n",
              ".list-inline>li:not(:last-child)::after {content: \"\\00b7\"; padding: 0 .5ex}\n",
              "</style>\n",
              "<ol class=list-inline><li>2.05834056219583</li><li>6.12576832130881</li><li>2.63803645213304</li><li>5.06531893697369</li><li>0.77728706322433</li></ol>\n",
              "</li>\n",
              "</ol>\n"
            ],
            "text/markdown": "1. 2.9640697238819\n2. 1. 1.57105256530942\n2. 0.96916258403466\n\n\n\n3. 1. 2.80249518424506\n2. 4.26672997815982\n3. 6.50834827739236\n\n\n\n4. 1. 1.99103917209261\n2. 6.22139356445871\n3. 2.65795387998886\n4. 3.22325443965027\n\n\n\n5. 1. 2.05834056219583\n2. 6.12576832130881\n3. 2.63803645213304\n4. 5.06531893697369\n5. 0.77728706322433\n\n\n\n\n\n",
            "text/latex": "\\begin{enumerate}\n\\item 2.9640697238819\n\\item \\begin{enumerate*}\n\\item 1.57105256530942\n\\item 0.96916258403466\n\\end{enumerate*}\n\n\\item \\begin{enumerate*}\n\\item 2.80249518424506\n\\item 4.26672997815982\n\\item 6.50834827739236\n\\end{enumerate*}\n\n\\item \\begin{enumerate*}\n\\item 1.99103917209261\n\\item 6.22139356445871\n\\item 2.65795387998886\n\\item 3.22325443965027\n\\end{enumerate*}\n\n\\item \\begin{enumerate*}\n\\item 2.05834056219583\n\\item 6.12576832130881\n\\item 2.63803645213304\n\\item 5.06531893697369\n\\item 0.77728706322433\n\\end{enumerate*}\n\n\\end{enumerate}\n",
            "text/plain": [
              "[[1]]\n",
              "[1] 2.96407\n",
              "\n",
              "[[2]]\n",
              "[1] 1.5710526 0.9691626\n",
              "\n",
              "[[3]]\n",
              "[1] 2.802495 4.266730 6.508348\n",
              "\n",
              "[[4]]\n",
              "[1] 1.991039 6.221394 2.657954 3.223254\n",
              "\n",
              "[[5]]\n",
              "[1] 2.0583406 6.1257683 2.6380365 5.0653189 0.7772871\n"
            ]
          },
          "metadata": {}
        }
      ]
    }
  ]
}