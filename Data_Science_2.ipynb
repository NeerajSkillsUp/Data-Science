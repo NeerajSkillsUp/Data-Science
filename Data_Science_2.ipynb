{
  "nbformat": 4,
  "nbformat_minor": 0,
  "metadata": {
    "colab": {
      "provenance": []
    },
    "kernelspec": {
      "name": "ir",
      "display_name": "R"
    },
    "language_info": {
      "name": "R"
    }
  },
  "cells": [
    {
      "cell_type": "markdown",
      "source": [
        "# Control Structures"
      ],
      "metadata": {
        "id": "j8K-2HMsR0u-"
      }
    },
    {
      "cell_type": "code",
      "execution_count": 2,
      "metadata": {
        "colab": {
          "base_uri": "https://localhost:8080/"
        },
        "id": "AGAeqDJIOGU5",
        "outputId": "b2b32c9e-13d3-4682-d9d0-c4ab17f395f2"
      },
      "outputs": [
        {
          "output_type": "stream",
          "name": "stdout",
          "text": [
            "[1] 0\n"
          ]
        }
      ],
      "source": [
        "x <- 1\n",
        "if(x > 3){\n",
        "  y <- 10\n",
        "}else{\n",
        "  y <- 0\n",
        "}\n",
        "print(y)"
      ]
    },
    {
      "cell_type": "code",
      "source": [
        "y <- if(x > 3){10} else{0}\n",
        "print(y)"
      ],
      "metadata": {
        "colab": {
          "base_uri": "https://localhost:8080/"
        },
        "id": "J3ciRfx2SHHt",
        "outputId": "fe40edef-6ed1-4522-dec8-00e27bb1622f"
      },
      "execution_count": 3,
      "outputs": [
        {
          "output_type": "stream",
          "name": "stdout",
          "text": [
            "[1] 0\n"
          ]
        }
      ]
    },
    {
      "cell_type": "code",
      "source": [
        "for(i in 1:10){print(i)}"
      ],
      "metadata": {
        "colab": {
          "base_uri": "https://localhost:8080/"
        },
        "id": "waLN_r7FSZg2",
        "outputId": "ceff410c-e38f-4ca8-ab64-d3bdaf28ba51"
      },
      "execution_count": 40,
      "outputs": [
        {
          "output_type": "stream",
          "name": "stdout",
          "text": [
            "[1] 1\n",
            "[1] 2\n",
            "[1] 3\n",
            "[1] 4\n",
            "[1] 5\n",
            "[1] 6\n",
            "[1] 7\n",
            "[1] 8\n",
            "[1] 9\n",
            "[1] 10\n"
          ]
        }
      ]
    },
    {
      "cell_type": "code",
      "source": [
        "print(i)"
      ],
      "metadata": {
        "colab": {
          "base_uri": "https://localhost:8080/"
        },
        "id": "aH56nxFzUPA_",
        "outputId": "728035df-ea1f-4a3a-cf7d-0f8ea6d11dbb"
      },
      "execution_count": 41,
      "outputs": [
        {
          "output_type": "stream",
          "name": "stdout",
          "text": [
            "[1] 10\n"
          ]
        }
      ]
    },
    {
      "cell_type": "code",
      "source": [
        "x <- c(\"a\", \"b\", \"c\", \"d\")\n",
        "# print(x[10])    # remember i is 10 from above and it will give NULL\n",
        "for(i in i:4) { print(x[i]) }   # so it work on seq : 10,9,8,7,6,5,4"
      ],
      "metadata": {
        "colab": {
          "base_uri": "https://localhost:8080/"
        },
        "id": "W17j_Zj2SmKF",
        "outputId": "a417b352-7a31-46f0-d3d6-0aaf4499fca5"
      },
      "execution_count": 42,
      "outputs": [
        {
          "output_type": "stream",
          "name": "stdout",
          "text": [
            "[1] NA\n",
            "[1] NA\n",
            "[1] NA\n",
            "[1] NA\n",
            "[1] NA\n",
            "[1] NA\n",
            "[1] \"d\"\n"
          ]
        }
      ]
    },
    {
      "cell_type": "code",
      "source": [
        "for(i in seq_along(x)) { print(x[i]) }"
      ],
      "metadata": {
        "colab": {
          "base_uri": "https://localhost:8080/"
        },
        "id": "lvblR0WJg5N4",
        "outputId": "f4096b02-1ebb-4a21-fc99-289d067851d3"
      },
      "execution_count": 43,
      "outputs": [
        {
          "output_type": "stream",
          "name": "stdout",
          "text": [
            "[1] \"a\"\n",
            "[1] \"b\"\n",
            "[1] \"c\"\n",
            "[1] \"d\"\n"
          ]
        }
      ]
    },
    {
      "cell_type": "code",
      "source": [
        "for(letter in x){ print(letter) }"
      ],
      "metadata": {
        "colab": {
          "base_uri": "https://localhost:8080/"
        },
        "id": "kKQa6pDbh7k_",
        "outputId": "d9f87616-9572-4e61-c1be-8b408c7f9d5f"
      },
      "execution_count": 44,
      "outputs": [
        {
          "output_type": "stream",
          "name": "stdout",
          "text": [
            "[1] \"a\"\n",
            "[1] \"b\"\n",
            "[1] \"c\"\n",
            "[1] \"d\"\n"
          ]
        }
      ]
    },
    {
      "cell_type": "code",
      "source": [
        "x <- matrix(1:6, 2, 3,)\n",
        "for(i in seq_len(nrow(x))) {\n",
        "  for(j in seq_len(ncol(x))) {\n",
        "    print(x[j])\n",
        "  }\n",
        "}\n",
        "x"
      ],
      "metadata": {
        "colab": {
          "base_uri": "https://localhost:8080/",
          "height": 240
        },
        "id": "mgRl6Rj6iKvr",
        "outputId": "2c9659bf-5146-4e07-a47f-0f05b06f24cb"
      },
      "execution_count": 52,
      "outputs": [
        {
          "output_type": "stream",
          "name": "stdout",
          "text": [
            "[1] 1\n",
            "[1] 2\n",
            "[1] 3\n",
            "[1] 1\n",
            "[1] 2\n",
            "[1] 3\n"
          ]
        },
        {
          "output_type": "display_data",
          "data": {
            "text/html": [
              "<table class=\"dataframe\">\n",
              "<caption>A matrix: 2 × 3 of type int</caption>\n",
              "<tbody>\n",
              "\t<tr><td>1</td><td>3</td><td>5</td></tr>\n",
              "\t<tr><td>2</td><td>4</td><td>6</td></tr>\n",
              "</tbody>\n",
              "</table>\n"
            ],
            "text/markdown": "\nA matrix: 2 × 3 of type int\n\n| 1 | 3 | 5 |\n| 2 | 4 | 6 |\n\n",
            "text/latex": "A matrix: 2 × 3 of type int\n\\begin{tabular}{lll}\n\t 1 & 3 & 5\\\\\n\t 2 & 4 & 6\\\\\n\\end{tabular}\n",
            "text/plain": [
              "     [,1] [,2] [,3]\n",
              "[1,] 1    3    5   \n",
              "[2,] 2    4    6   "
            ]
          },
          "metadata": {}
        }
      ]
    },
    {
      "cell_type": "code",
      "source": [
        "count <- 0\n",
        "while(count < 10) {\n",
        "  print(count)\n",
        "  count <- count + 1\n",
        "}"
      ],
      "metadata": {
        "colab": {
          "base_uri": "https://localhost:8080/"
        },
        "id": "nxqNm66mjJ5q",
        "outputId": "2d98a3db-8600-40cc-d40a-885ec827ffd4"
      },
      "execution_count": 53,
      "outputs": [
        {
          "output_type": "stream",
          "name": "stdout",
          "text": [
            "[1] 0\n",
            "[1] 1\n",
            "[1] 2\n",
            "[1] 3\n",
            "[1] 4\n",
            "[1] 5\n",
            "[1] 6\n",
            "[1] 7\n",
            "[1] 8\n",
            "[1] 9\n"
          ]
        }
      ]
    },
    {
      "cell_type": "code",
      "source": [
        "rbinom(1, 1, 0.5) # generate either 0 or 1 randomly"
      ],
      "metadata": {
        "colab": {
          "base_uri": "https://localhost:8080/",
          "height": 34
        },
        "id": "7tlylnQKokd-",
        "outputId": "136a7bee-e412-40c1-cd1e-6f89c636dca8"
      },
      "execution_count": 67,
      "outputs": [
        {
          "output_type": "display_data",
          "data": {
            "text/html": [
              "1"
            ],
            "text/markdown": "1",
            "text/latex": "1",
            "text/plain": [
              "[1] 1"
            ]
          },
          "metadata": {}
        }
      ]
    },
    {
      "cell_type": "code",
      "source": [
        "z <- 5\n",
        "while(z >= 3 && z<= 10){\n",
        "  print(z)\n",
        "  coin <- rbinom(1, 1, 0.5) # for random walk\n",
        "  if(coin == 1){\n",
        "    z <- z + 1\n",
        "  }else{\n",
        "    z <- z - 1\n",
        "  }\n",
        "}"
      ],
      "metadata": {
        "colab": {
          "base_uri": "https://localhost:8080/"
        },
        "id": "nwn5efDfjYLD",
        "outputId": "e26a208e-0856-4836-87df-33c3239a299d"
      },
      "execution_count": 68,
      "outputs": [
        {
          "output_type": "stream",
          "name": "stdout",
          "text": [
            "[1] 5\n",
            "[1] 4\n",
            "[1] 5\n",
            "[1] 6\n",
            "[1] 7\n",
            "[1] 6\n",
            "[1] 5\n",
            "[1] 4\n",
            "[1] 3\n",
            "[1] 4\n",
            "[1] 3\n"
          ]
        }
      ]
    },
    {
      "cell_type": "code",
      "source": [
        "computeEstimate<- function(){\n",
        "  #A dummy function\n",
        "  0\n",
        "}\n",
        "x0 <- 1\n",
        "tot <- 1e-8\n",
        "repeat{\n",
        "  x1 <- computeEstimate()\n",
        "  if(abs(x1 - x0) < tot){\n",
        "    break\n",
        "  }else{\n",
        "    x0 <- x1\n",
        "  }\n",
        "}"
      ],
      "metadata": {
        "id": "vW5SS1SIoa4F"
      },
      "execution_count": 71,
      "outputs": []
    },
    {
      "cell_type": "code",
      "source": [
        "for(i in 1:10) {\n",
        "  if(i == 2 || i==6){\n",
        "    next\n",
        "  }\n",
        "  print(i)\n",
        "}"
      ],
      "metadata": {
        "colab": {
          "base_uri": "https://localhost:8080/"
        },
        "id": "91eD24wUq0X3",
        "outputId": "1962fa3e-3044-4bf8-f2f9-c60172abde92"
      },
      "execution_count": 70,
      "outputs": [
        {
          "output_type": "stream",
          "name": "stdout",
          "text": [
            "[1] 1\n",
            "[1] 3\n",
            "[1] 4\n",
            "[1] 5\n",
            "[1] 7\n",
            "[1] 8\n",
            "[1] 9\n",
            "[1] 10\n"
          ]
        }
      ]
    },
    {
      "cell_type": "markdown",
      "source": [
        "# Functions"
      ],
      "metadata": {
        "id": "t3r8pCWzrlvD"
      }
    },
    {
      "cell_type": "code",
      "source": [
        "f <- function(a, b) {\n",
        "  a^2\n",
        "}\n",
        "\n",
        "f(2)"
      ],
      "metadata": {
        "colab": {
          "base_uri": "https://localhost:8080/",
          "height": 34
        },
        "id": "bxnLXIwMrL4n",
        "outputId": "d84c8e44-8bf2-4b50-cf67-18ed011c5a13"
      },
      "execution_count": 72,
      "outputs": [
        {
          "output_type": "display_data",
          "data": {
            "text/html": [
              "4"
            ],
            "text/markdown": "4",
            "text/latex": "4",
            "text/plain": [
              "[1] 4"
            ]
          },
          "metadata": {}
        }
      ]
    },
    {
      "cell_type": "markdown",
      "source": [
        "Lazy matching"
      ],
      "metadata": {
        "id": "ibhew1YTvZe-"
      }
    },
    {
      "cell_type": "code",
      "source": [
        "f <- function(a,b){\n",
        "  print(a) # note that value of a is still printed before error: lazy matching\n",
        "  # print(b) # uncomment it to check\n",
        "}\n",
        "\n",
        "f(45)"
      ],
      "metadata": {
        "colab": {
          "base_uri": "https://localhost:8080/"
        },
        "id": "xe3_rjf8udG3",
        "outputId": "7f51da73-93d8-4827-a34c-e89bbcfd398f"
      },
      "execution_count": 81,
      "outputs": [
        {
          "output_type": "stream",
          "name": "stdout",
          "text": [
            "[1] 45\n"
          ]
        }
      ]
    },
    {
      "cell_type": "code",
      "source": [
        "f <- function(a,b){\n",
        "  # print(b) # uncomment it to check\n",
        "  print(a) # note that value of a is not printed in this case\n",
        "}\n",
        "\n",
        "f(45)"
      ],
      "metadata": {
        "colab": {
          "base_uri": "https://localhost:8080/"
        },
        "id": "8K9H-YnRu3cr",
        "outputId": "f32ac499-a74a-4be2-bd5a-ffe9641a3cb1"
      },
      "execution_count": 82,
      "outputs": [
        {
          "output_type": "stream",
          "name": "stdout",
          "text": [
            "[1] 45\n"
          ]
        }
      ]
    },
    {
      "cell_type": "code",
      "source": [
        "myplot <- function(x, y, type = \"l\", ... ){\n",
        "  plot(x, y, type = type,... )\n",
        "}\n",
        "myplot(1:4,2:5,\"l\",main=\"plot\")"
      ],
      "metadata": {
        "colab": {
          "base_uri": "https://localhost:8080/",
          "height": 437
        },
        "id": "JF_am9J9vguV",
        "outputId": "f07916b9-8d3c-4fa8-caf1-43a487c50cb0"
      },
      "execution_count": 93,
      "outputs": [
        {
          "output_type": "display_data",
          "data": {
            "text/plain": [
              "Plot with title “plot”"
            ],
            "image/png": "[encoded data removed]"
          },
          "metadata": {
            "image/png": {
              "width": 420,
              "height": 420
            }
          }
        }
      ]
    },
    {
      "cell_type": "code",
      "source": [
        "add2 <- function(x,y){\n",
        "  x+y\n",
        "}\n",
        "add2(3,5)"
      ],
      "metadata": {
        "colab": {
          "base_uri": "https://localhost:8080/",
          "height": 34
        },
        "id": "ILjuBqXQxiR2",
        "outputId": "295e97a2-5eb9-42d4-80f6-aa4a9a4aa10e"
      },
      "execution_count": 94,
      "outputs": [
        {
          "output_type": "display_data",
          "data": {
            "text/html": [
              "8"
            ],
            "text/markdown": "8",
            "text/latex": "8",
            "text/plain": [
              "[1] 8"
            ]
          },
          "metadata": {}
        }
      ]
    },
    {
      "cell_type": "code",
      "source": [
        "aboveTen <- function(x){\n",
        "  use <- x > 10   ## logical vector\n",
        "  x[use]\n",
        "}\n",
        "\n",
        "aboveTen(1:20)"
      ],
      "metadata": {
        "colab": {
          "base_uri": "https://localhost:8080/",
          "height": 34
        },
        "id": "D0wzAOMpxtfR",
        "outputId": "6614c505-1ed8-4dcb-bd3d-160d36925580"
      },
      "execution_count": 95,
      "outputs": [
        {
          "output_type": "display_data",
          "data": {
            "text/html": [
              "<style>\n",
              ".list-inline {list-style: none; margin:0; padding: 0}\n",
              ".list-inline>li {display: inline-block}\n",
              ".list-inline>li:not(:last-child)::after {content: \"\\00b7\"; padding: 0 .5ex}\n",
              "</style>\n",
              "<ol class=list-inline><li>11</li><li>12</li><li>13</li><li>14</li><li>15</li><li>16</li><li>17</li><li>18</li><li>19</li><li>20</li></ol>\n"
            ],
            "text/markdown": "1. 11\n2. 12\n3. 13\n4. 14\n5. 15\n6. 16\n7. 17\n8. 18\n9. 19\n10. 20\n\n\n",
            "text/latex": "\\begin{enumerate*}\n\\item 11\n\\item 12\n\\item 13\n\\item 14\n\\item 15\n\\item 16\n\\item 17\n\\item 18\n\\item 19\n\\item 20\n\\end{enumerate*}\n",
            "text/plain": [
              " [1] 11 12 13 14 15 16 17 18 19 20"
            ]
          },
          "metadata": {}
        }
      ]
    },
    {
      "cell_type": "code",
      "source": [
        "above <- function(x, n = 10){\n",
        "  use <- x > n\n",
        "  x[use]\n",
        "}\n",
        "above(1:20, 12)"
      ],
      "metadata": {
        "colab": {
          "base_uri": "https://localhost:8080/",
          "height": 34
        },
        "id": "VG3NxWs0yHSq",
        "outputId": "1f0b2cad-23c1-4e2f-ff37-5e2f8a7fc4b6"
      },
      "execution_count": 96,
      "outputs": [
        {
          "output_type": "display_data",
          "data": {
            "text/html": [
              "<style>\n",
              ".list-inline {list-style: none; margin:0; padding: 0}\n",
              ".list-inline>li {display: inline-block}\n",
              ".list-inline>li:not(:last-child)::after {content: \"\\00b7\"; padding: 0 .5ex}\n",
              "</style>\n",
              "<ol class=list-inline><li>13</li><li>14</li><li>15</li><li>16</li><li>17</li><li>18</li><li>19</li><li>20</li></ol>\n"
            ],
            "text/markdown": "1. 13\n2. 14\n3. 15\n4. 16\n5. 17\n6. 18\n7. 19\n8. 20\n\n\n",
            "text/latex": "\\begin{enumerate*}\n\\item 13\n\\item 14\n\\item 15\n\\item 16\n\\item 17\n\\item 18\n\\item 19\n\\item 20\n\\end{enumerate*}\n",
            "text/plain": [
              "[1] 13 14 15 16 17 18 19 20"
            ]
          },
          "metadata": {}
        }
      ]
    },
    {
      "cell_type": "code",
      "source": [
        "columnMean <- function(x, removeNA = TRUE){\n",
        "  nc <- ncol(x)\n",
        "  means <- numeric(nc)\n",
        "  for(i in 1:nc){\n",
        "    means[i] <- mean(x[,i], na.rm = removeNA)\n",
        "  }\n",
        "  means\n",
        "}\n",
        "columnMean(airquality)"
      ],
      "metadata": {
        "colab": {
          "base_uri": "https://localhost:8080/",
          "height": 34
        },
        "id": "2O2_l0LRy2-E",
        "outputId": "fddbd291-fca7-42dc-dc22-b6b4ed8c0aa4"
      },
      "execution_count": 101,
      "outputs": [
        {
          "output_type": "display_data",
          "data": {
            "text/html": [
              "<style>\n",
              ".list-inline {list-style: none; margin:0; padding: 0}\n",
              ".list-inline>li {display: inline-block}\n",
              ".list-inline>li:not(:last-child)::after {content: \"\\00b7\"; padding: 0 .5ex}\n",
              "</style>\n",
              "<ol class=list-inline><li>42.1293103448276</li><li>185.931506849315</li><li>9.95751633986928</li><li>77.8823529411765</li><li>6.99346405228758</li><li>15.8039215686275</li></ol>\n"
            ],
            "text/markdown": "1. 42.1293103448276\n2. 185.931506849315\n3. 9.95751633986928\n4. 77.8823529411765\n5. 6.99346405228758\n6. 15.8039215686275\n\n\n",
            "text/latex": "\\begin{enumerate*}\n\\item 42.1293103448276\n\\item 185.931506849315\n\\item 9.95751633986928\n\\item 77.8823529411765\n\\item 6.99346405228758\n\\item 15.8039215686275\n\\end{enumerate*}\n",
            "text/plain": [
              "[1]  42.129310 185.931507   9.957516  77.882353   6.993464  15.803922"
            ]
          },
          "metadata": {}
        }
      ]
    },
    {
      "cell_type": "markdown",
      "source": [
        "# Scoping rules"
      ],
      "metadata": {
        "id": "M7TXZzsu8jOm"
      }
    },
    {
      "cell_type": "code",
      "source": [
        "lm <- function(x) {\n",
        "  x * x\n",
        "}\n",
        "\n",
        "lm"
      ],
      "metadata": {
        "colab": {
          "base_uri": "https://localhost:8080/",
          "height": 86
        },
        "id": "lEyIvmGM1iTc",
        "outputId": "76585b8f-cd66-442a-ed5b-07fa9808ecaa"
      },
      "execution_count": 102,
      "outputs": [
        {
          "output_type": "display_data",
          "data": {
            "text/html": [
              "<pre class=language-r><code>function (x) \n",
              "{\n",
              "<span style=white-space:pre-wrap>    x * x</span>\n",
              "}</code></pre>"
            ],
            "text/markdown": "```r\nfunction (x) \n{\n    x * x\n}\n```",
            "text/latex": "\\begin{minted}{r}\nfunction (x) \n\\{\n    x * x\n\\}\n\\end{minted}",
            "text/plain": [
              "function (x) \n",
              "{\n",
              "    x * x\n",
              "}"
            ]
          },
          "metadata": {}
        }
      ]
    },
    {
      "cell_type": "code",
      "source": [
        "search()"
      ],
      "metadata": {
        "colab": {
          "base_uri": "https://localhost:8080/",
          "height": 34
        },
        "id": "OaqXRYGQ3CEZ",
        "outputId": "9437875a-2b52-4358-dde7-c222c45b6353"
      },
      "execution_count": 103,
      "outputs": [
        {
          "output_type": "display_data",
          "data": {
            "text/html": [
              "<style>\n",
              ".list-inline {list-style: none; margin:0; padding: 0}\n",
              ".list-inline>li {display: inline-block}\n",
              ".list-inline>li:not(:last-child)::after {content: \"\\00b7\"; padding: 0 .5ex}\n",
              "</style>\n",
              "<ol class=list-inline><li>'.GlobalEnv'</li><li>'jupyter:irkernel'</li><li>'package:stats'</li><li>'package:graphics'</li><li>'package:grDevices'</li><li>'package:utils'</li><li>'package:datasets'</li><li>'package:methods'</li><li>'Autoloads'</li><li>'package:base'</li></ol>\n"
            ],
            "text/markdown": "1. '.GlobalEnv'\n2. 'jupyter:irkernel'\n3. 'package:stats'\n4. 'package:graphics'\n5. 'package:grDevices'\n6. 'package:utils'\n7. 'package:datasets'\n8. 'package:methods'\n9. 'Autoloads'\n10. 'package:base'\n\n\n",
            "text/latex": "\\begin{enumerate*}\n\\item '.GlobalEnv'\n\\item 'jupyter:irkernel'\n\\item 'package:stats'\n\\item 'package:graphics'\n\\item 'package:grDevices'\n\\item 'package:utils'\n\\item 'package:datasets'\n\\item 'package:methods'\n\\item 'Autoloads'\n\\item 'package:base'\n\\end{enumerate*}\n",
            "text/plain": [
              " [1] \".GlobalEnv\"        \"jupyter:irkernel\"  \"package:stats\"    \n",
              " [4] \"package:graphics\"  \"package:grDevices\" \"package:utils\"    \n",
              " [7] \"package:datasets\"  \"package:methods\"   \"Autoloads\"        \n",
              "[10] \"package:base\"     "
            ]
          },
          "metadata": {}
        }
      ]
    },
    {
      "cell_type": "code",
      "source": [
        "f <- function(x, y){\n",
        "  x^2 + y / z\n",
        "}"
      ],
      "metadata": {
        "id": "WhC5FpNI5I0V"
      },
      "execution_count": 104,
      "outputs": []
    },
    {
      "cell_type": "code",
      "source": [
        "make.power <- function(n){\n",
        "  pow <- function(x){\n",
        "    x^n\n",
        "  }\n",
        "  pow\n",
        "}\n",
        "cube <- make.power(3)\n",
        "square <- make.power(2)\n",
        "cube(3)\n",
        "square(3)"
      ],
      "metadata": {
        "colab": {
          "base_uri": "https://localhost:8080/",
          "height": 52
        },
        "id": "6_c6Fmtz6FiD",
        "outputId": "04d4118d-1669-4329-f3a8-34b4e53d4de9"
      },
      "execution_count": 105,
      "outputs": [
        {
          "output_type": "display_data",
          "data": {
            "text/html": [
              "27"
            ],
            "text/markdown": "27",
            "text/latex": "27",
            "text/plain": [
              "[1] 27"
            ]
          },
          "metadata": {}
        },
        {
          "output_type": "display_data",
          "data": {
            "text/html": [
              "9"
            ],
            "text/markdown": "9",
            "text/latex": "9",
            "text/plain": [
              "[1] 9"
            ]
          },
          "metadata": {}
        }
      ]
    },
    {
      "cell_type": "code",
      "source": [
        "ls(environment(cube))"
      ],
      "metadata": {
        "colab": {
          "base_uri": "https://localhost:8080/",
          "height": 34
        },
        "id": "ZfjsrKSI6fom",
        "outputId": "befd48aa-46f0-4ccd-d67a-03857abb806d"
      },
      "execution_count": 106,
      "outputs": [
        {
          "output_type": "display_data",
          "data": {
            "text/html": [
              "<style>\n",
              ".list-inline {list-style: none; margin:0; padding: 0}\n",
              ".list-inline>li {display: inline-block}\n",
              ".list-inline>li:not(:last-child)::after {content: \"\\00b7\"; padding: 0 .5ex}\n",
              "</style>\n",
              "<ol class=list-inline><li>'n'</li><li>'pow'</li></ol>\n"
            ],
            "text/markdown": "1. 'n'\n2. 'pow'\n\n\n",
            "text/latex": "\\begin{enumerate*}\n\\item 'n'\n\\item 'pow'\n\\end{enumerate*}\n",
            "text/plain": [
              "[1] \"n\"   \"pow\""
            ]
          },
          "metadata": {}
        }
      ]
    },
    {
      "cell_type": "code",
      "source": [
        "get(\"n\", environment(cube))"
      ],
      "metadata": {
        "colab": {
          "base_uri": "https://localhost:8080/",
          "height": 34
        },
        "id": "VaDQzWW36qFy",
        "outputId": "f971b25a-f98b-45ef-ad98-49c9e88535a8"
      },
      "execution_count": 108,
      "outputs": [
        {
          "output_type": "display_data",
          "data": {
            "text/html": [
              "3"
            ],
            "text/markdown": "3",
            "text/latex": "3",
            "text/plain": [
              "[1] 3"
            ]
          },
          "metadata": {}
        }
      ]
    },
    {
      "cell_type": "code",
      "source": [
        "ls(environment(square))"
      ],
      "metadata": {
        "colab": {
          "base_uri": "https://localhost:8080/",
          "height": 34
        },
        "id": "ZOOBUeaD68ld",
        "outputId": "ad706452-dbaf-4ee8-8fae-96f7b9d9336a"
      },
      "execution_count": 111,
      "outputs": [
        {
          "output_type": "display_data",
          "data": {
            "text/html": [
              "<style>\n",
              ".list-inline {list-style: none; margin:0; padding: 0}\n",
              ".list-inline>li {display: inline-block}\n",
              ".list-inline>li:not(:last-child)::after {content: \"\\00b7\"; padding: 0 .5ex}\n",
              "</style>\n",
              "<ol class=list-inline><li>'n'</li><li>'pow'</li></ol>\n"
            ],
            "text/markdown": "1. 'n'\n2. 'pow'\n\n\n",
            "text/latex": "\\begin{enumerate*}\n\\item 'n'\n\\item 'pow'\n\\end{enumerate*}\n",
            "text/plain": [
              "[1] \"n\"   \"pow\""
            ]
          },
          "metadata": {}
        }
      ]
    },
    {
      "cell_type": "code",
      "source": [
        "get(\"n\", environment(square))"
      ],
      "metadata": {
        "colab": {
          "base_uri": "https://localhost:8080/",
          "height": 34
        },
        "id": "Arv6kZgN6-pM",
        "outputId": "b296eb0c-a8c7-4fac-f02f-7643cdb40673"
      },
      "execution_count": 112,
      "outputs": [
        {
          "output_type": "display_data",
          "data": {
            "text/html": [
              "2"
            ],
            "text/markdown": "2",
            "text/latex": "2",
            "text/plain": [
              "[1] 2"
            ]
          },
          "metadata": {}
        }
      ]
    },
    {
      "cell_type": "code",
      "source": [
        "y <- 10\n",
        "f <- function(x){\n",
        "  y <- 2\n",
        "  y^2 + g(x)\n",
        "}\n",
        "g <- function(x){\n",
        "  x*y\n",
        "}\n",
        "\n",
        "f(3)"
      ],
      "metadata": {
        "colab": {
          "base_uri": "https://localhost:8080/",
          "height": 34
        },
        "id": "ibqalnGC7OX6",
        "outputId": "f869439e-4e68-490e-c3ef-c5d43390d17b"
      },
      "execution_count": 113,
      "outputs": [
        {
          "output_type": "display_data",
          "data": {
            "text/html": [
              "34"
            ],
            "text/markdown": "34",
            "text/latex": "34",
            "text/plain": [
              "[1] 34"
            ]
          },
          "metadata": {}
        }
      ]
    },
    {
      "cell_type": "code",
      "source": [
        "g <- function(x){\n",
        "  a <- 3\n",
        "  x + a + y\n",
        "}\n",
        "\n",
        "g(2)"
      ],
      "metadata": {
        "colab": {
          "base_uri": "https://localhost:8080/",
          "height": 34
        },
        "id": "k11smeGQ7kNZ",
        "outputId": "ab9570fa-22d1-4d6d-bfd0-06c990b9c1e6"
      },
      "execution_count": 114,
      "outputs": [
        {
          "output_type": "display_data",
          "data": {
            "text/html": [
              "15"
            ],
            "text/markdown": "15",
            "text/latex": "15",
            "text/plain": [
              "[1] 15"
            ]
          },
          "metadata": {}
        }
      ]
    },
    {
      "cell_type": "code",
      "source": [
        "y <- 3\n",
        "g(2)"
      ],
      "metadata": {
        "colab": {
          "base_uri": "https://localhost:8080/",
          "height": 34
        },
        "id": "JgDj9S8U77Xg",
        "outputId": "7185e379-706f-4762-d055-457efd2eb961"
      },
      "execution_count": 115,
      "outputs": [
        {
          "output_type": "display_data",
          "data": {
            "text/html": [
              "8"
            ],
            "text/markdown": "8",
            "text/latex": "8",
            "text/plain": [
              "[1] 8"
            ]
          },
          "metadata": {}
        }
      ]
    },
    {
      "cell_type": "markdown",
      "source": [
        "# Vectorized Operations"
      ],
      "metadata": {
        "id": "RZ15Wj5N8mSD"
      }
    },
    {
      "cell_type": "code",
      "source": [
        "x <- 1:4; y <- 6:9\n",
        "x + y"
      ],
      "metadata": {
        "colab": {
          "base_uri": "https://localhost:8080/",
          "height": 34
        },
        "id": "QxbhZ_lx8LKb",
        "outputId": "0fc3d997-ea41-4ce4-ae66-39c529714bd2"
      },
      "execution_count": 116,
      "outputs": [
        {
          "output_type": "display_data",
          "data": {
            "text/html": [
              "<style>\n",
              ".list-inline {list-style: none; margin:0; padding: 0}\n",
              ".list-inline>li {display: inline-block}\n",
              ".list-inline>li:not(:last-child)::after {content: \"\\00b7\"; padding: 0 .5ex}\n",
              "</style>\n",
              "<ol class=list-inline><li>7</li><li>9</li><li>11</li><li>13</li></ol>\n"
            ],
            "text/markdown": "1. 7\n2. 9\n3. 11\n4. 13\n\n\n",
            "text/latex": "\\begin{enumerate*}\n\\item 7\n\\item 9\n\\item 11\n\\item 13\n\\end{enumerate*}\n",
            "text/plain": [
              "[1]  7  9 11 13"
            ]
          },
          "metadata": {}
        }
      ]
    },
    {
      "cell_type": "code",
      "source": [
        "x > 2"
      ],
      "metadata": {
        "colab": {
          "base_uri": "https://localhost:8080/",
          "height": 34
        },
        "id": "KAFSdcty8tZU",
        "outputId": "018a9c5c-f27a-4410-a97d-f6cb5b7bab68"
      },
      "execution_count": 117,
      "outputs": [
        {
          "output_type": "display_data",
          "data": {
            "text/html": [
              "<style>\n",
              ".list-inline {list-style: none; margin:0; padding: 0}\n",
              ".list-inline>li {display: inline-block}\n",
              ".list-inline>li:not(:last-child)::after {content: \"\\00b7\"; padding: 0 .5ex}\n",
              "</style>\n",
              "<ol class=list-inline><li>FALSE</li><li>FALSE</li><li>TRUE</li><li>TRUE</li></ol>\n"
            ],
            "text/markdown": "1. FALSE\n2. FALSE\n3. TRUE\n4. TRUE\n\n\n",
            "text/latex": "\\begin{enumerate*}\n\\item FALSE\n\\item FALSE\n\\item TRUE\n\\item TRUE\n\\end{enumerate*}\n",
            "text/plain": [
              "[1] FALSE FALSE  TRUE  TRUE"
            ]
          },
          "metadata": {}
        }
      ]
    },
    {
      "cell_type": "code",
      "source": [
        "x >= 2"
      ],
      "metadata": {
        "colab": {
          "base_uri": "https://localhost:8080/",
          "height": 34
        },
        "id": "ldd9Sa1c8wcF",
        "outputId": "100fd94a-c127-4374-c79b-35780b44998a"
      },
      "execution_count": 119,
      "outputs": [
        {
          "output_type": "display_data",
          "data": {
            "text/html": [
              "<style>\n",
              ".list-inline {list-style: none; margin:0; padding: 0}\n",
              ".list-inline>li {display: inline-block}\n",
              ".list-inline>li:not(:last-child)::after {content: \"\\00b7\"; padding: 0 .5ex}\n",
              "</style>\n",
              "<ol class=list-inline><li>FALSE</li><li>TRUE</li><li>TRUE</li><li>TRUE</li></ol>\n"
            ],
            "text/markdown": "1. FALSE\n2. TRUE\n3. TRUE\n4. TRUE\n\n\n",
            "text/latex": "\\begin{enumerate*}\n\\item FALSE\n\\item TRUE\n\\item TRUE\n\\item TRUE\n\\end{enumerate*}\n",
            "text/plain": [
              "[1] FALSE  TRUE  TRUE  TRUE"
            ]
          },
          "metadata": {}
        }
      ]
    },
    {
      "cell_type": "code",
      "source": [
        "y == 8"
      ],
      "metadata": {
        "colab": {
          "base_uri": "https://localhost:8080/",
          "height": 34
        },
        "id": "_Df-gJ238xuR",
        "outputId": "800cd1d7-a8c5-4143-87b2-a881cd9ddb91"
      },
      "execution_count": 120,
      "outputs": [
        {
          "output_type": "display_data",
          "data": {
            "text/html": [
              "<style>\n",
              ".list-inline {list-style: none; margin:0; padding: 0}\n",
              ".list-inline>li {display: inline-block}\n",
              ".list-inline>li:not(:last-child)::after {content: \"\\00b7\"; padding: 0 .5ex}\n",
              "</style>\n",
              "<ol class=list-inline><li>FALSE</li><li>FALSE</li><li>TRUE</li><li>FALSE</li></ol>\n"
            ],
            "text/markdown": "1. FALSE\n2. FALSE\n3. TRUE\n4. FALSE\n\n\n",
            "text/latex": "\\begin{enumerate*}\n\\item FALSE\n\\item FALSE\n\\item TRUE\n\\item FALSE\n\\end{enumerate*}\n",
            "text/plain": [
              "[1] FALSE FALSE  TRUE FALSE"
            ]
          },
          "metadata": {}
        }
      ]
    },
    {
      "cell_type": "code",
      "source": [
        "x * y"
      ],
      "metadata": {
        "colab": {
          "base_uri": "https://localhost:8080/",
          "height": 34
        },
        "id": "q97yCpmd8-il",
        "outputId": "c51aab61-07c4-451f-81ad-ff43408fc803"
      },
      "execution_count": 121,
      "outputs": [
        {
          "output_type": "display_data",
          "data": {
            "text/html": [
              "<style>\n",
              ".list-inline {list-style: none; margin:0; padding: 0}\n",
              ".list-inline>li {display: inline-block}\n",
              ".list-inline>li:not(:last-child)::after {content: \"\\00b7\"; padding: 0 .5ex}\n",
              "</style>\n",
              "<ol class=list-inline><li>6</li><li>14</li><li>24</li><li>36</li></ol>\n"
            ],
            "text/markdown": "1. 6\n2. 14\n3. 24\n4. 36\n\n\n",
            "text/latex": "\\begin{enumerate*}\n\\item 6\n\\item 14\n\\item 24\n\\item 36\n\\end{enumerate*}\n",
            "text/plain": [
              "[1]  6 14 24 36"
            ]
          },
          "metadata": {}
        }
      ]
    },
    {
      "cell_type": "code",
      "source": [
        "x / y"
      ],
      "metadata": {
        "colab": {
          "base_uri": "https://localhost:8080/",
          "height": 34
        },
        "id": "xpgfKsvF8_I_",
        "outputId": "c091a484-3e1e-4559-a6c8-76992d66c4e0"
      },
      "execution_count": 122,
      "outputs": [
        {
          "output_type": "display_data",
          "data": {
            "text/html": [
              "<style>\n",
              ".list-inline {list-style: none; margin:0; padding: 0}\n",
              ".list-inline>li {display: inline-block}\n",
              ".list-inline>li:not(:last-child)::after {content: \"\\00b7\"; padding: 0 .5ex}\n",
              "</style>\n",
              "<ol class=list-inline><li>0.166666666666667</li><li>0.285714285714286</li><li>0.375</li><li>0.444444444444444</li></ol>\n"
            ],
            "text/markdown": "1. 0.166666666666667\n2. 0.285714285714286\n3. 0.375\n4. 0.444444444444444\n\n\n",
            "text/latex": "\\begin{enumerate*}\n\\item 0.166666666666667\n\\item 0.285714285714286\n\\item 0.375\n\\item 0.444444444444444\n\\end{enumerate*}\n",
            "text/plain": [
              "[1] 0.1666667 0.2857143 0.3750000 0.4444444"
            ]
          },
          "metadata": {}
        }
      ]
    },
    {
      "cell_type": "code",
      "source": [
        "x <- matrix(1:4, 2, 2)\n",
        "x\n",
        "y <- matrix(rep(10, 4), 2, 2)\n",
        "y"
      ],
      "metadata": {
        "colab": {
          "base_uri": "https://localhost:8080/",
          "height": 281
        },
        "id": "6jjcWZWp9HYh",
        "outputId": "c0263f9b-5896-4b37-de64-5d8975576235"
      },
      "execution_count": 126,
      "outputs": [
        {
          "output_type": "display_data",
          "data": {
            "text/html": [
              "<table class=\"dataframe\">\n",
              "<caption>A matrix: 2 × 2 of type int</caption>\n",
              "<tbody>\n",
              "\t<tr><td>1</td><td>3</td></tr>\n",
              "\t<tr><td>2</td><td>4</td></tr>\n",
              "</tbody>\n",
              "</table>\n"
            ],
            "text/markdown": "\nA matrix: 2 × 2 of type int\n\n| 1 | 3 |\n| 2 | 4 |\n\n",
            "text/latex": "A matrix: 2 × 2 of type int\n\\begin{tabular}{ll}\n\t 1 & 3\\\\\n\t 2 & 4\\\\\n\\end{tabular}\n",
            "text/plain": [
              "     [,1] [,2]\n",
              "[1,] 1    3   \n",
              "[2,] 2    4   "
            ]
          },
          "metadata": {}
        },
        {
          "output_type": "display_data",
          "data": {
            "text/html": [
              "<table class=\"dataframe\">\n",
              "<caption>A matrix: 2 × 2 of type dbl</caption>\n",
              "<tbody>\n",
              "\t<tr><td>10</td><td>10</td></tr>\n",
              "\t<tr><td>10</td><td>10</td></tr>\n",
              "</tbody>\n",
              "</table>\n"
            ],
            "text/markdown": "\nA matrix: 2 × 2 of type dbl\n\n| 10 | 10 |\n| 10 | 10 |\n\n",
            "text/latex": "A matrix: 2 × 2 of type dbl\n\\begin{tabular}{ll}\n\t 10 & 10\\\\\n\t 10 & 10\\\\\n\\end{tabular}\n",
            "text/plain": [
              "     [,1] [,2]\n",
              "[1,] 10   10  \n",
              "[2,] 10   10  "
            ]
          },
          "metadata": {}
        }
      ]
    },
    {
      "cell_type": "code",
      "source": [
        "x * y"
      ],
      "metadata": {
        "colab": {
          "base_uri": "https://localhost:8080/",
          "height": 132
        },
        "id": "yN_n2WFm9w9A",
        "outputId": "ac5f5ecc-873a-4dbf-d579-db0ff5cf73c5"
      },
      "execution_count": 127,
      "outputs": [
        {
          "output_type": "display_data",
          "data": {
            "text/html": [
              "<table class=\"dataframe\">\n",
              "<caption>A matrix: 2 × 2 of type dbl</caption>\n",
              "<tbody>\n",
              "\t<tr><td>10</td><td>30</td></tr>\n",
              "\t<tr><td>20</td><td>40</td></tr>\n",
              "</tbody>\n",
              "</table>\n"
            ],
            "text/markdown": "\nA matrix: 2 × 2 of type dbl\n\n| 10 | 30 |\n| 20 | 40 |\n\n",
            "text/latex": "A matrix: 2 × 2 of type dbl\n\\begin{tabular}{ll}\n\t 10 & 30\\\\\n\t 20 & 40\\\\\n\\end{tabular}\n",
            "text/plain": [
              "     [,1] [,2]\n",
              "[1,] 10   30  \n",
              "[2,] 20   40  "
            ]
          },
          "metadata": {}
        }
      ]
    },
    {
      "cell_type": "code",
      "source": [
        "x / y"
      ],
      "metadata": {
        "colab": {
          "base_uri": "https://localhost:8080/",
          "height": 132
        },
        "id": "zyjNvctJ-IDn",
        "outputId": "075445d2-8c84-4384-bc4e-a2fa6c272e18"
      },
      "execution_count": 129,
      "outputs": [
        {
          "output_type": "display_data",
          "data": {
            "text/html": [
              "<table class=\"dataframe\">\n",
              "<caption>A matrix: 2 × 2 of type dbl</caption>\n",
              "<tbody>\n",
              "\t<tr><td>0.1</td><td>0.3</td></tr>\n",
              "\t<tr><td>0.2</td><td>0.4</td></tr>\n",
              "</tbody>\n",
              "</table>\n"
            ],
            "text/markdown": "\nA matrix: 2 × 2 of type dbl\n\n| 0.1 | 0.3 |\n| 0.2 | 0.4 |\n\n",
            "text/latex": "A matrix: 2 × 2 of type dbl\n\\begin{tabular}{ll}\n\t 0.1 & 0.3\\\\\n\t 0.2 & 0.4\\\\\n\\end{tabular}\n",
            "text/plain": [
              "     [,1] [,2]\n",
              "[1,] 0.1  0.3 \n",
              "[2,] 0.2  0.4 "
            ]
          },
          "metadata": {}
        }
      ]
    },
    {
      "cell_type": "code",
      "source": [
        "x %*% y"
      ],
      "metadata": {
        "colab": {
          "base_uri": "https://localhost:8080/",
          "height": 132
        },
        "id": "Qmb3-ALZ90sZ",
        "outputId": "956bb4e1-83ec-4057-ab36-582e723c1be5"
      },
      "execution_count": 130,
      "outputs": [
        {
          "output_type": "display_data",
          "data": {
            "text/html": [
              "<table class=\"dataframe\">\n",
              "<caption>A matrix: 2 × 2 of type dbl</caption>\n",
              "<tbody>\n",
              "\t<tr><td>40</td><td>40</td></tr>\n",
              "\t<tr><td>60</td><td>60</td></tr>\n",
              "</tbody>\n",
              "</table>\n"
            ],
            "text/markdown": "\nA matrix: 2 × 2 of type dbl\n\n| 40 | 40 |\n| 60 | 60 |\n\n",
            "text/latex": "A matrix: 2 × 2 of type dbl\n\\begin{tabular}{ll}\n\t 40 & 40\\\\\n\t 60 & 60\\\\\n\\end{tabular}\n",
            "text/plain": [
              "     [,1] [,2]\n",
              "[1,] 40   40  \n",
              "[2,] 60   60  "
            ]
          },
          "metadata": {}
        }
      ]
    },
    {
      "cell_type": "markdown",
      "source": [
        "# Dates and Times"
      ],
      "metadata": {
        "id": "-Ax1j3fz_Usd"
      }
    },
    {
      "cell_type": "code",
      "source": [
        "x <- as.Date(\"1970-01-01\")\n",
        "x"
      ],
      "metadata": {
        "colab": {
          "base_uri": "https://localhost:8080/",
          "height": 34
        },
        "id": "ZK1pR_g6-MNv",
        "outputId": "49d4b12b-f13b-478d-e108-9fe648a95f88"
      },
      "execution_count": 148,
      "outputs": [
        {
          "output_type": "display_data",
          "data": {
            "text/html": [
              "<time datetime=\"1970-01-01\">1970-01-01</time>"
            ],
            "text/markdown": "1970-01-01",
            "text/latex": "1970-01-01",
            "text/plain": [
              "[1] \"1970-01-01\""
            ]
          },
          "metadata": {}
        }
      ]
    },
    {
      "cell_type": "code",
      "source": [
        "unclass(x)"
      ],
      "metadata": {
        "colab": {
          "base_uri": "https://localhost:8080/",
          "height": 34
        },
        "id": "Vri1kmKD_bXU",
        "outputId": "94bf7446-3bcd-48cd-f133-2145a51aeec7"
      },
      "execution_count": 149,
      "outputs": [
        {
          "output_type": "display_data",
          "data": {
            "text/html": [
              "0"
            ],
            "text/markdown": "0",
            "text/latex": "0",
            "text/plain": [
              "[1] 0"
            ]
          },
          "metadata": {}
        }
      ]
    },
    {
      "cell_type": "code",
      "source": [
        "unclass(as.Date(\"1971-01-01\"))   # count of number of days"
      ],
      "metadata": {
        "colab": {
          "base_uri": "https://localhost:8080/",
          "height": 34
        },
        "id": "JPgKJMsl_nmY",
        "outputId": "cda1299a-1971-4a5f-cdc5-b479138a75a2"
      },
      "execution_count": 150,
      "outputs": [
        {
          "output_type": "display_data",
          "data": {
            "text/html": [
              "365"
            ],
            "text/markdown": "365",
            "text/latex": "365",
            "text/plain": [
              "[1] 365"
            ]
          },
          "metadata": {}
        }
      ]
    },
    {
      "cell_type": "code",
      "source": [
        "x <- Sys.time()\n",
        "x"
      ],
      "metadata": {
        "colab": {
          "base_uri": "https://localhost:8080/",
          "height": 35
        },
        "id": "Mgd8fzKXAAuj",
        "outputId": "187e7dc3-74c3-47dd-efc5-be7189c343e1"
      },
      "execution_count": 151,
      "outputs": [
        {
          "output_type": "display_data",
          "data": {
            "text/plain": [
              "[1] \"2025-09-17 18:59:35 UTC\""
            ]
          },
          "metadata": {}
        }
      ]
    },
    {
      "cell_type": "code",
      "source": [
        "p <- as.POSIXlt(x)\n",
        "p\n",
        "names(unclass(p))"
      ],
      "metadata": {
        "colab": {
          "base_uri": "https://localhost:8080/",
          "height": 52
        },
        "id": "LCYfDrvJByRi",
        "outputId": "de32f8cf-fdaf-4ac7-9530-f17bdff3d972"
      },
      "execution_count": 152,
      "outputs": [
        {
          "output_type": "display_data",
          "data": {
            "text/plain": [
              "[1] \"2025-09-17 18:59:35 UTC\""
            ]
          },
          "metadata": {}
        },
        {
          "output_type": "display_data",
          "data": {
            "text/html": [
              "<style>\n",
              ".list-inline {list-style: none; margin:0; padding: 0}\n",
              ".list-inline>li {display: inline-block}\n",
              ".list-inline>li:not(:last-child)::after {content: \"\\00b7\"; padding: 0 .5ex}\n",
              "</style>\n",
              "<ol class=list-inline><li>'sec'</li><li>'min'</li><li>'hour'</li><li>'mday'</li><li>'mon'</li><li>'year'</li><li>'wday'</li><li>'yday'</li><li>'isdst'</li><li>'zone'</li><li>'gmtoff'</li></ol>\n"
            ],
            "text/markdown": "1. 'sec'\n2. 'min'\n3. 'hour'\n4. 'mday'\n5. 'mon'\n6. 'year'\n7. 'wday'\n8. 'yday'\n9. 'isdst'\n10. 'zone'\n11. 'gmtoff'\n\n\n",
            "text/latex": "\\begin{enumerate*}\n\\item 'sec'\n\\item 'min'\n\\item 'hour'\n\\item 'mday'\n\\item 'mon'\n\\item 'year'\n\\item 'wday'\n\\item 'yday'\n\\item 'isdst'\n\\item 'zone'\n\\item 'gmtoff'\n\\end{enumerate*}\n",
            "text/plain": [
              " [1] \"sec\"    \"min\"    \"hour\"   \"mday\"   \"mon\"    \"year\"   \"wday\"   \"yday\"  \n",
              " [9] \"isdst\"  \"zone\"   \"gmtoff\""
            ]
          },
          "metadata": {}
        }
      ]
    },
    {
      "cell_type": "code",
      "source": [
        "p$sec"
      ],
      "metadata": {
        "colab": {
          "base_uri": "https://localhost:8080/",
          "height": 34
        },
        "id": "LVnmiVf8CDBJ",
        "outputId": "53be2569-d048-473a-e989-8878ffca9080"
      },
      "execution_count": 153,
      "outputs": [
        {
          "output_type": "display_data",
          "data": {
            "text/html": [
              "35.7280235290527"
            ],
            "text/markdown": "35.7280235290527",
            "text/latex": "35.7280235290527",
            "text/plain": [
              "[1] 35.72802"
            ]
          },
          "metadata": {}
        }
      ]
    },
    {
      "cell_type": "code",
      "source": [
        "x <- Sys.time()\n",
        "x"
      ],
      "metadata": {
        "colab": {
          "base_uri": "https://localhost:8080/",
          "height": 35
        },
        "id": "DwRSQkyjCINQ",
        "outputId": "fe34f92c-417c-4aa5-e337-529dde4b7e21"
      },
      "execution_count": 154,
      "outputs": [
        {
          "output_type": "display_data",
          "data": {
            "text/plain": [
              "[1] \"2025-09-17 18:59:42 UTC\""
            ]
          },
          "metadata": {}
        }
      ]
    },
    {
      "cell_type": "code",
      "source": [
        "unclass(x)"
      ],
      "metadata": {
        "colab": {
          "base_uri": "https://localhost:8080/",
          "height": 34
        },
        "id": "B6wcuY2ZC0AL",
        "outputId": "11832b8e-775a-41f5-b58e-b8b0c9c0cb08"
      },
      "execution_count": 155,
      "outputs": [
        {
          "output_type": "display_data",
          "data": {
            "text/html": [
              "1758135582.36546"
            ],
            "text/markdown": "1758135582.36546",
            "text/latex": "1758135582.36546",
            "text/plain": [
              "[1] 1758135582"
            ]
          },
          "metadata": {}
        }
      ]
    },
    {
      "cell_type": "code",
      "source": [
        "p <- as.POSIXlt(x)\n",
        "p$sec"
      ],
      "metadata": {
        "colab": {
          "base_uri": "https://localhost:8080/",
          "height": 34
        },
        "id": "UD309nRUDD57",
        "outputId": "1e9cae55-cacb-4764-ebc7-8100b754fc00"
      },
      "execution_count": 158,
      "outputs": [
        {
          "output_type": "display_data",
          "data": {
            "text/html": [
              "42.3654623031616"
            ],
            "text/markdown": "42.3654623031616",
            "text/latex": "42.3654623031616",
            "text/plain": [
              "[1] 42.36546"
            ]
          },
          "metadata": {}
        }
      ]
    },
    {
      "cell_type": "code",
      "source": [
        "datestring <- c(\"January 10, 2012 10:40\", \"December 9, 2011 10:40\")\n",
        "x <- strptime(datestring, \"%B %d, %Y %H:%M\")\n",
        "x\n",
        "class(x)"
      ],
      "metadata": {
        "colab": {
          "base_uri": "https://localhost:8080/",
          "height": 52
        },
        "id": "KERXCYs7DZyz",
        "outputId": "1d0f4c8a-9791-43b9-9ea2-a61eb9aad23d"
      },
      "execution_count": 159,
      "outputs": [
        {
          "output_type": "display_data",
          "data": {
            "text/plain": [
              "[1] \"2012-01-10 10:40:00 UTC\" \"2011-12-09 10:40:00 UTC\""
            ]
          },
          "metadata": {}
        },
        {
          "output_type": "display_data",
          "data": {
            "text/html": [
              "<style>\n",
              ".list-inline {list-style: none; margin:0; padding: 0}\n",
              ".list-inline>li {display: inline-block}\n",
              ".list-inline>li:not(:last-child)::after {content: \"\\00b7\"; padding: 0 .5ex}\n",
              "</style>\n",
              "<ol class=list-inline><li>'POSIXlt'</li><li>'POSIXt'</li></ol>\n"
            ],
            "text/markdown": "1. 'POSIXlt'\n2. 'POSIXt'\n\n\n",
            "text/latex": "\\begin{enumerate*}\n\\item 'POSIXlt'\n\\item 'POSIXt'\n\\end{enumerate*}\n",
            "text/plain": [
              "[1] \"POSIXlt\" \"POSIXt\" "
            ]
          },
          "metadata": {}
        }
      ]
    },
    {
      "cell_type": "code",
      "source": [
        "x <- as.Date(\"2012-01-01\")\n",
        "y <- strptime(\"9 January 2011 11:34:21\", \"%d %b %Y %H:%M:%S\")\n",
        "# x-y\n",
        "x <- as.POSIXlt(x)\n",
        "x-y"
      ],
      "metadata": {
        "colab": {
          "base_uri": "https://localhost:8080/",
          "height": 35
        },
        "id": "9icJSkQ6EVrS",
        "outputId": "bf2cd129-bb35-4214-b431-f4de89aa5b03"
      },
      "execution_count": 161,
      "outputs": [
        {
          "output_type": "display_data",
          "data": {
            "text/plain": [
              "Time difference of 356.5178 days"
            ]
          },
          "metadata": {}
        }
      ]
    },
    {
      "cell_type": "code",
      "source": [
        "x <- as.Date(\"2012-03-01\"); y <- as.Date(\"2012-02-28\")\n",
        "x-y"
      ],
      "metadata": {
        "colab": {
          "base_uri": "https://localhost:8080/",
          "height": 35
        },
        "id": "o0t8eeUTE_Gq",
        "outputId": "88b0f29f-d2cf-434c-e7e7-30f94e7bc1fd"
      },
      "execution_count": 162,
      "outputs": [
        {
          "output_type": "display_data",
          "data": {
            "text/plain": [
              "Time difference of 2 days"
            ]
          },
          "metadata": {}
        }
      ]
    },
    {
      "cell_type": "code",
      "source": [
        "x <- as.POSIXct(\"2012-10-25 01:00:00\")\n",
        "y <- as.POSIXct(\"2012-10-25 06:00:00\")\n",
        "y-x"
      ],
      "metadata": {
        "colab": {
          "base_uri": "https://localhost:8080/",
          "height": 35
        },
        "id": "T2act0aiFVd2",
        "outputId": "d6bd1eb4-9e8e-4b31-c553-493c28ba6c2a"
      },
      "execution_count": 167,
      "outputs": [
        {
          "output_type": "display_data",
          "data": {
            "text/plain": [
              "Time difference of 5 hours"
            ]
          },
          "metadata": {}
        }
      ]
    }
  ]
}